{
 "cells": [
  {
   "cell_type": "markdown",
   "metadata": {},
   "source": [
    "# **Climate Change Belief Analysis**\n",
    "-----------------"
   ]
  },
  {
   "cell_type": "markdown",
   "metadata": {},
   "source": [
    "#### by Team_ZM4"
   ]
  },
  {
   "cell_type": "markdown",
   "metadata": {},
   "source": [
    "<br>\n",
    "<img src=\"https://scx2.b-cdn.net/gfx/news/hires/2019/7-climatechange.jpg\" />\n",
    "<br>"
   ]
  },
  {
   "cell_type": "markdown",
   "metadata": {},
   "source": [
    "# **Contents**\n",
    "-----------------\n",
    "1. Import Libraries\n",
    "  - Importing modules for data science and visualization\n",
    "  - Importing NLP Libraries\n",
    "  - Importing ML Libraries\n",
    "\n",
    "2. Import Data\n",
    "  - Importing train and test datasets\n",
    "  \n",
    "3. Explonatory Data Analysis\n",
    "  - Statistical Overview\n",
    "  - Missing values\n",
    "  - Sentiment Visual Distributions\n",
    "\n",
    "4. Data Preprocessing\n",
    "  - Letter casing\n",
    "  - Noise removal\n",
    "  - Stopword removal\n",
    "  - Normalization\n",
    "  - Stemming\n",
    "  \n",
    "5. Model Building\n",
    "  - Training models with inbalanced data\n",
    "  - Training models with balanced data\n",
    "  \n",
    "6. Predict Deployment\n",
    "\n",
    "7. Conclusion\n",
    "  "
   ]
  },
  {
   "cell_type": "markdown",
   "metadata": {},
   "source": [
    "## Introduction\n"
   ]
  },
  {
   "cell_type": "markdown",
   "metadata": {},
   "source": [
    "### About Company"
   ]
  },
  {
   "cell_type": "markdown",
   "metadata": {},
   "source": [
    "\n",
    "Dream World company deals in producing products and services that are environmentally friendly and sustainable. They have presence across all urban, semi urban and rural areas. \n"
   ]
  },
  {
   "cell_type": "markdown",
   "metadata": {},
   "source": [
    "### Problem Statement"
   ]
  },
  {
   "cell_type": "markdown",
   "metadata": {},
   "source": [
    "The Company is looking to create products and services that is environmentally friendly. They would like to understand their consumers' view on climate change. To address this, we are going to create Machine Learning models that are able to classify whether or not a person believes in climate change, based on their novel tweet data. Correct classification of a tweet will help companies understand consumer sentiment, which will further guide their business strategies."
   ]
  },
  {
   "cell_type": "markdown",
   "metadata": {},
   "source": [
    "### Data"
   ]
  },
  {
   "cell_type": "markdown",
   "metadata": {},
   "source": [
    "\n",
    "Variable Descriptions\n",
    "\n",
    "- sentiment: Sentiment of tweet (pro, anti, neutral,news).\n",
    "\n",
    "- message: Tweet body (raw tweet).\n",
    "\n",
    "- tweetid: Twitter unique id (unique integer)."
   ]
  },
  {
   "cell_type": "markdown",
   "metadata": {},
   "source": [
    "Target Variable (sentiment)\n",
    "\n",
    "- 1 : Pro --> the tweet supports the belief of a man-made climate change.\n",
    "- 2 : News --> the tweet links to factual news about climate change.\n",
    "- 0 : Neutral --> the tweet neither supports nor refutes the belief of a man-made climate change.\n",
    "- -1 : Anti --> the tweet does not believe in a man made climate change"
   ]
  },
  {
   "cell_type": "markdown",
   "metadata": {},
   "source": [
    "# 1. **Import Packages**\n",
    "------------------"
   ]
  },
  {
   "cell_type": "code",
   "execution_count": 2,
   "metadata": {},
   "outputs": [],
   "source": [
    "# Importing modules for data science and visualization\n",
    "\n",
    "import pandas as pd\n",
    "import numpy as np\n",
    "import seaborn as sns\n",
    "import matplotlib.pyplot as plt\n",
    "import matplotlib as mpl\n",
    "from wordcloud import WordCloud, STOPWORDS\n",
    "import time\n",
    "mpl.rcParams['figure.dpi'] = 180\n",
    "%matplotlib inline\n",
    "\n",
    "# NLP Libraries\n",
    "\n",
    "import re\n",
    "import string\n",
    "from nltk.corpus import stopwords\n",
    "from nltk.tokenize import word_tokenize\n",
    "from nltk.tokenize import RegexpTokenizer\n",
    "from nltk.stem import PorterStemmer\n",
    "from nltk.stem import WordNetLemmatizer\n",
    "from nltk.stem import SnowballStemmer\n",
    "from os import path\n",
    "from PIL import Image\n",
    "import nltk\n",
    "\n",
    "# ML Libraries\n",
    "\n",
    "import nltk\n",
    "from sklearn.metrics import accuracy_score\n",
    "from nltk.tokenize import RegexpTokenizer\n",
    "from nltk import TreebankWordTokenizer, SnowballStemmer, PorterStemmer\n",
    "from nltk.stem import WordNetLemmatizer\n",
    "from nltk.corpus import stopwords\n",
    "from sklearn.feature_extraction.text import TfidfVectorizer\n",
    "from sklearn.feature_extraction.text import TfidfVectorizer\n",
    "from sklearn.linear_model import LogisticRegression\n",
    "from sklearn.naive_bayes import MultinomialNB\n",
    "from sklearn.ensemble import RandomForestClassifier, AdaBoostClassifier\n",
    "from sklearn.svm import LinearSVC\n",
    "from sklearn.svm import SVC\n",
    "from sklearn.model_selection import train_test_split\n",
    "from sklearn.naive_bayes import MultinomialNB\n",
    "from nltk.stem import WordNetLemmatizer\n",
    "from nltk.corpus import stopwords\n",
    "from nltk.stem.porter import PorterStemmer\n",
    "from sklearn.metrics import f1_score\n",
    "from sklearn.feature_extraction.text import CountVectorizer\n",
    "from sklearn.metrics import f1_score, accuracy_score, precision_score, recall_score, classification_report, confusion_matrix\n",
    "import string\n",
    "import urllib\n",
    "\n",
    "#ignore warnings\n",
    "import warnings\n",
    "warnings.filterwarnings('ignore')"
   ]
  },
  {
   "cell_type": "markdown",
   "metadata": {},
   "source": [
    "# 2. **Importing Data**\n",
    "-----------------\n"
   ]
  },
  {
   "cell_type": "markdown",
   "metadata": {},
   "source": [
    "Train.csv: Dataset that contains all the variables that should be used to train the model\n",
    "\n",
    "Test.csv : Dataset that contains variables that will be used to test the model"
   ]
  },
  {
   "cell_type": "code",
   "execution_count": 3,
   "metadata": {},
   "outputs": [],
   "source": [
    "test = pd.read_csv('test_df.csv') \n",
    "train = pd.read_csv('train_df.csv') "
   ]
  },
  {
   "cell_type": "markdown",
   "metadata": {},
   "source": [
    "# 3. **Explonatory Data Analysis**\n",
    "-------------------"
   ]
  },
  {
   "cell_type": "markdown",
   "metadata": {},
   "source": [
    "Exploratory data analysis is an approach of analyzing data sets to summarize their main characteristics, often using statistical graphics and other data visualization methods"
   ]
  },
  {
   "cell_type": "markdown",
   "metadata": {},
   "source": [
    "#### Display the head of both the test and train data"
   ]
  },
  {
   "cell_type": "code",
   "execution_count": 4,
   "metadata": {},
   "outputs": [
    {
     "data": {
      "text/html": [
       "<div>\n",
       "<style scoped>\n",
       "    .dataframe tbody tr th:only-of-type {\n",
       "        vertical-align: middle;\n",
       "    }\n",
       "\n",
       "    .dataframe tbody tr th {\n",
       "        vertical-align: top;\n",
       "    }\n",
       "\n",
       "    .dataframe thead th {\n",
       "        text-align: right;\n",
       "    }\n",
       "</style>\n",
       "<table border=\"1\" class=\"dataframe\">\n",
       "  <thead>\n",
       "    <tr style=\"text-align: right;\">\n",
       "      <th></th>\n",
       "      <th>sentiment</th>\n",
       "      <th>message</th>\n",
       "      <th>tweetid</th>\n",
       "    </tr>\n",
       "  </thead>\n",
       "  <tbody>\n",
       "    <tr>\n",
       "      <th>0</th>\n",
       "      <td>1</td>\n",
       "      <td>PolySciMajor EPA chief doesn't think carbon di...</td>\n",
       "      <td>625221</td>\n",
       "    </tr>\n",
       "    <tr>\n",
       "      <th>1</th>\n",
       "      <td>1</td>\n",
       "      <td>It's not like we lack evidence of anthropogeni...</td>\n",
       "      <td>126103</td>\n",
       "    </tr>\n",
       "    <tr>\n",
       "      <th>2</th>\n",
       "      <td>2</td>\n",
       "      <td>RT @RawStory: Researchers say we have three ye...</td>\n",
       "      <td>698562</td>\n",
       "    </tr>\n",
       "    <tr>\n",
       "      <th>3</th>\n",
       "      <td>1</td>\n",
       "      <td>#TodayinMaker# WIRED : 2016 was a pivotal year...</td>\n",
       "      <td>573736</td>\n",
       "    </tr>\n",
       "    <tr>\n",
       "      <th>4</th>\n",
       "      <td>1</td>\n",
       "      <td>RT @SoyNovioDeTodas: It's 2016, and a racist, ...</td>\n",
       "      <td>466954</td>\n",
       "    </tr>\n",
       "  </tbody>\n",
       "</table>\n",
       "</div>"
      ],
      "text/plain": [
       "   sentiment                                            message  tweetid\n",
       "0          1  PolySciMajor EPA chief doesn't think carbon di...   625221\n",
       "1          1  It's not like we lack evidence of anthropogeni...   126103\n",
       "2          2  RT @RawStory: Researchers say we have three ye...   698562\n",
       "3          1  #TodayinMaker# WIRED : 2016 was a pivotal year...   573736\n",
       "4          1  RT @SoyNovioDeTodas: It's 2016, and a racist, ...   466954"
      ]
     },
     "execution_count": 4,
     "metadata": {},
     "output_type": "execute_result"
    }
   ],
   "source": [
    "train.head()"
   ]
  },
  {
   "cell_type": "code",
   "execution_count": 5,
   "metadata": {
    "scrolled": true
   },
   "outputs": [
    {
     "data": {
      "text/html": [
       "<div>\n",
       "<style scoped>\n",
       "    .dataframe tbody tr th:only-of-type {\n",
       "        vertical-align: middle;\n",
       "    }\n",
       "\n",
       "    .dataframe tbody tr th {\n",
       "        vertical-align: top;\n",
       "    }\n",
       "\n",
       "    .dataframe thead th {\n",
       "        text-align: right;\n",
       "    }\n",
       "</style>\n",
       "<table border=\"1\" class=\"dataframe\">\n",
       "  <thead>\n",
       "    <tr style=\"text-align: right;\">\n",
       "      <th></th>\n",
       "      <th>message</th>\n",
       "      <th>tweetid</th>\n",
       "    </tr>\n",
       "  </thead>\n",
       "  <tbody>\n",
       "    <tr>\n",
       "      <th>0</th>\n",
       "      <td>Europe will now be looking to China to make su...</td>\n",
       "      <td>169760</td>\n",
       "    </tr>\n",
       "    <tr>\n",
       "      <th>1</th>\n",
       "      <td>Combine this with the polling of staffers re c...</td>\n",
       "      <td>35326</td>\n",
       "    </tr>\n",
       "    <tr>\n",
       "      <th>2</th>\n",
       "      <td>The scary, unimpeachable evidence that climate...</td>\n",
       "      <td>224985</td>\n",
       "    </tr>\n",
       "    <tr>\n",
       "      <th>3</th>\n",
       "      <td>@Karoli @morgfair @OsborneInk @dailykos \\nPuti...</td>\n",
       "      <td>476263</td>\n",
       "    </tr>\n",
       "    <tr>\n",
       "      <th>4</th>\n",
       "      <td>RT @FakeWillMoore: 'Female orgasms cause globa...</td>\n",
       "      <td>872928</td>\n",
       "    </tr>\n",
       "  </tbody>\n",
       "</table>\n",
       "</div>"
      ],
      "text/plain": [
       "                                             message  tweetid\n",
       "0  Europe will now be looking to China to make su...   169760\n",
       "1  Combine this with the polling of staffers re c...    35326\n",
       "2  The scary, unimpeachable evidence that climate...   224985\n",
       "3  @Karoli @morgfair @OsborneInk @dailykos \\nPuti...   476263\n",
       "4  RT @FakeWillMoore: 'Female orgasms cause globa...   872928"
      ]
     },
     "execution_count": 5,
     "metadata": {},
     "output_type": "execute_result"
    }
   ],
   "source": [
    "test.head()"
   ]
  },
  {
   "cell_type": "markdown",
   "metadata": {},
   "source": [
    "#### Display the shape of the data sets"
   ]
  },
  {
   "cell_type": "code",
   "execution_count": 6,
   "metadata": {},
   "outputs": [
    {
     "name": "stdout",
     "output_type": "stream",
     "text": [
      "Train data shape:\t(15819, 3)\n",
      "Test data shape:\t(10546, 2)\n"
     ]
    }
   ],
   "source": [
    "print(f'Train data shape:\\t{train.shape}\\nTest data shape:\\t{test.shape}')"
   ]
  },
  {
   "cell_type": "markdown",
   "metadata": {},
   "source": [
    "#### Display the train dataframe information"
   ]
  },
  {
   "cell_type": "code",
   "execution_count": 173,
   "metadata": {},
   "outputs": [
    {
     "name": "stdout",
     "output_type": "stream",
     "text": [
      "<class 'pandas.core.frame.DataFrame'>\n",
      "RangeIndex: 15819 entries, 0 to 15818\n",
      "Data columns (total 3 columns):\n",
      " #   Column     Non-Null Count  Dtype \n",
      "---  ------     --------------  ----- \n",
      " 0   sentiment  15819 non-null  int64 \n",
      " 1   message    15819 non-null  object\n",
      " 2   tweetid    15819 non-null  int64 \n",
      "dtypes: int64(2), object(1)\n",
      "memory usage: 370.9+ KB\n"
     ]
    }
   ],
   "source": [
    "train.info()"
   ]
  },
  {
   "cell_type": "markdown",
   "metadata": {},
   "source": [
    "#### Statistical Overview\n",
    "\n"
   ]
  },
  {
   "cell_type": "markdown",
   "metadata": {},
   "source": [
    "Firstly, we will take a brief overview of a summary of each numeric feature by using the `describe()` method."
   ]
  },
  {
   "cell_type": "code",
   "execution_count": 174,
   "metadata": {},
   "outputs": [
    {
     "data": {
      "text/html": [
       "<div>\n",
       "<style scoped>\n",
       "    .dataframe tbody tr th:only-of-type {\n",
       "        vertical-align: middle;\n",
       "    }\n",
       "\n",
       "    .dataframe tbody tr th {\n",
       "        vertical-align: top;\n",
       "    }\n",
       "\n",
       "    .dataframe thead th {\n",
       "        text-align: right;\n",
       "    }\n",
       "</style>\n",
       "<table border=\"1\" class=\"dataframe\">\n",
       "  <thead>\n",
       "    <tr style=\"text-align: right;\">\n",
       "      <th></th>\n",
       "      <th>sentiment</th>\n",
       "      <th>tweetid</th>\n",
       "    </tr>\n",
       "  </thead>\n",
       "  <tbody>\n",
       "    <tr>\n",
       "      <th>count</th>\n",
       "      <td>15819.000000</td>\n",
       "      <td>15819.000000</td>\n",
       "    </tr>\n",
       "    <tr>\n",
       "      <th>mean</th>\n",
       "      <td>0.917504</td>\n",
       "      <td>501719.433656</td>\n",
       "    </tr>\n",
       "    <tr>\n",
       "      <th>std</th>\n",
       "      <td>0.836537</td>\n",
       "      <td>289045.983132</td>\n",
       "    </tr>\n",
       "    <tr>\n",
       "      <th>min</th>\n",
       "      <td>-1.000000</td>\n",
       "      <td>6.000000</td>\n",
       "    </tr>\n",
       "    <tr>\n",
       "      <th>25%</th>\n",
       "      <td>1.000000</td>\n",
       "      <td>253207.500000</td>\n",
       "    </tr>\n",
       "    <tr>\n",
       "      <th>50%</th>\n",
       "      <td>1.000000</td>\n",
       "      <td>502291.000000</td>\n",
       "    </tr>\n",
       "    <tr>\n",
       "      <th>75%</th>\n",
       "      <td>1.000000</td>\n",
       "      <td>753769.000000</td>\n",
       "    </tr>\n",
       "    <tr>\n",
       "      <th>max</th>\n",
       "      <td>2.000000</td>\n",
       "      <td>999888.000000</td>\n",
       "    </tr>\n",
       "  </tbody>\n",
       "</table>\n",
       "</div>"
      ],
      "text/plain": [
       "          sentiment        tweetid\n",
       "count  15819.000000  15819.000000 \n",
       "mean   0.917504      501719.433656\n",
       "std    0.836537      289045.983132\n",
       "min   -1.000000      6.000000     \n",
       "25%    1.000000      253207.500000\n",
       "50%    1.000000      502291.000000\n",
       "75%    1.000000      753769.000000\n",
       "max    2.000000      999888.000000"
      ]
     },
     "execution_count": 174,
     "metadata": {},
     "output_type": "execute_result"
    }
   ],
   "source": [
    "# Looking at the how the messages are distributed across the sentiment\n",
    "train.describe()"
   ]
  },
  {
   "cell_type": "markdown",
   "metadata": {},
   "source": [
    "## Missing values\n",
    "--------------------"
   ]
  },
  {
   "cell_type": "markdown",
   "metadata": {},
   "source": [
    "- In this section we will be looking out for any missing values (i.e: np.nan values) and or all the tweets that are just empty strings."
   ]
  },
  {
   "cell_type": "code",
   "execution_count": 175,
   "metadata": {},
   "outputs": [
    {
     "data": {
      "text/plain": [
       "sentiment    0\n",
       "message      0\n",
       "tweetid      0\n",
       "dtype: int64"
      ]
     },
     "execution_count": 175,
     "metadata": {},
     "output_type": "execute_result"
    }
   ],
   "source": [
    "# Checking for missing values\n",
    "train.isnull().sum()"
   ]
  },
  {
   "cell_type": "code",
   "execution_count": 176,
   "metadata": {},
   "outputs": [
    {
     "name": "stdout",
     "output_type": "stream",
     "text": [
      "15819\n",
      "0\n"
     ]
    }
   ],
   "source": [
    "# Checking whether a character is white-space character or not\n",
    "\n",
    "print(len(train['message']))\n",
    "print(sum(train['message'].apply(lambda x: x.isspace())))"
   ]
  },
  {
   "cell_type": "markdown",
   "metadata": {},
   "source": [
    "\n",
    "## Sentiment Visual Distributionsn\n",
    "-------------"
   ]
  },
  {
   "cell_type": "markdown",
   "metadata": {},
   "source": [
    "####  The percentage of each sentiment row"
   ]
  },
  {
   "cell_type": "code",
   "execution_count": 180,
   "metadata": {},
   "outputs": [
    {
     "data": {
      "text/html": [
       "<div>\n",
       "<style scoped>\n",
       "    .dataframe tbody tr th:only-of-type {\n",
       "        vertical-align: middle;\n",
       "    }\n",
       "\n",
       "    .dataframe tbody tr th {\n",
       "        vertical-align: top;\n",
       "    }\n",
       "\n",
       "    .dataframe thead th {\n",
       "        text-align: right;\n",
       "    }\n",
       "</style>\n",
       "<table border=\"1\" class=\"dataframe\">\n",
       "  <thead>\n",
       "    <tr style=\"text-align: right;\">\n",
       "      <th></th>\n",
       "      <th>no_of_entries</th>\n",
       "      <th>percentage</th>\n",
       "    </tr>\n",
       "    <tr>\n",
       "      <th>categories</th>\n",
       "      <th></th>\n",
       "      <th></th>\n",
       "    </tr>\n",
       "  </thead>\n",
       "  <tbody>\n",
       "    <tr>\n",
       "      <th>1</th>\n",
       "      <td>8530</td>\n",
       "      <td>0.54</td>\n",
       "    </tr>\n",
       "    <tr>\n",
       "      <th>2</th>\n",
       "      <td>3640</td>\n",
       "      <td>0.23</td>\n",
       "    </tr>\n",
       "    <tr>\n",
       "      <th>0</th>\n",
       "      <td>2353</td>\n",
       "      <td>0.15</td>\n",
       "    </tr>\n",
       "    <tr>\n",
       "      <th>-1</th>\n",
       "      <td>1296</td>\n",
       "      <td>0.08</td>\n",
       "    </tr>\n",
       "  </tbody>\n",
       "</table>\n",
       "</div>"
      ],
      "text/plain": [
       "            no_of_entries  percentage\n",
       "categories                           \n",
       " 1          8530           0.54      \n",
       " 2          3640           0.23      \n",
       " 0          2353           0.15      \n",
       "-1          1296           0.08      "
      ]
     },
     "execution_count": 180,
     "metadata": {},
     "output_type": "execute_result"
    }
   ],
   "source": [
    "\n",
    "# count the entries per column and save them in a dataframe\n",
    "categories = train['sentiment'].value_counts().to_frame()\n",
    "categories.index.rename('categories',inplace=True)\n",
    "categories.rename({'sentiment':'no_of_entries'},axis=1,inplace=True)\n",
    "categories['percentage'] = [round(count/len(train),2) for count in categories['no_of_entries']]\n",
    "categories"
   ]
  },
  {
   "cell_type": "markdown",
   "metadata": {},
   "source": [
    "Above we have created a dataframe that shows the number of entries per category and the percentage of those entries as a faction of the total entries."
   ]
  },
  {
   "cell_type": "markdown",
   "metadata": {},
   "source": [
    "\n",
    "####  Visualizing the distribution of the target\n"
   ]
  },
  {
   "cell_type": "code",
   "execution_count": 181,
   "metadata": {},
   "outputs": [
    {
     "data": {
      "image/png": "[encoded data removed]",
      "text/plain": [
       "<Figure size 576x360 with 1 Axes>"
      ]
     },
     "metadata": {
      "needs_background": "light"
     },
     "output_type": "display_data"
    }
   ],
   "source": [
    "# Visualizing the distribution of the target \n",
    "plt.figure(figsize=(8,5))\n",
    "\n",
    "plt.bar(x=['1','2','0','-1'],height=categories['no_of_entries'])\n",
    "plt.title('Number of entries per category')\n",
    "plt.xlabel('Categories')\n",
    "plt.ylabel('Number of entries')\n",
    "plt.show()\n",
    "#del categories"
   ]
  },
  {
   "cell_type": "markdown",
   "metadata": {},
   "source": [
    "As it can be seen above, the sentiment belonging to category 1 (Positive, climate change belief) is significantly higher than the other categories. In comparison to category -1 (Negative,Anti climate change belief), if a model were to be trained with this two categories only, the model not be a good classifier as it would penalise the smaller category by predicting category 1 more often. In the data processing section of this notebook, we will look into methods like resampling to try and balance the distribution of the entries."
   ]
  },
  {
   "cell_type": "markdown",
   "metadata": {},
   "source": [
    "####  Distribution plots for the label"
   ]
  },
  {
   "cell_type": "code",
   "execution_count": 182,
   "metadata": {},
   "outputs": [
    {
     "data": {
      "text/plain": [
       "Text(0, 0.5, 'Density')"
      ]
     },
     "execution_count": 182,
     "metadata": {},
     "output_type": "execute_result"
    },
    {
     "data": {
      "image/png": "[encoded data removed]",
      "text/plain": [
       "<Figure size 1152x576 with 4 Axes>"
      ]
     },
     "metadata": {
      "needs_background": "light"
     },
     "output_type": "display_data"
    }
   ],
   "source": [
    "# Distribution plots for the label\n",
    "fig,(ax1,ax2,ax3,ax4) = plt.subplots(1,4,figsize=(16,8))\n",
    "\n",
    "#For Positive \n",
    "sns.distplot(train[train['sentiment']==1]['message'].str.len(), hist=True, kde=True,\n",
    "             bins=int(200/25), color = 'blue', \n",
    "             ax = ax1,\n",
    "             hist_kws={'edgecolor':'black'},\n",
    "             kde_kws={'linewidth': 4})\n",
    "ax1.set_title('Positive')\n",
    "ax1.set_xlabel('message_Length')\n",
    "ax1.set_ylabel('Density')\n",
    "\n",
    "#For Negative \n",
    "sns.distplot(train[train['sentiment']==-1]['message'].str.len(), hist=True, kde=True,\n",
    "             bins=int(200/25), color = 'lightblue', \n",
    "             ax = ax2,\n",
    "             hist_kws={'edgecolor':'black'},\n",
    "             kde_kws={'linewidth': 4})\n",
    "ax2.set_title('Negative ')\n",
    "ax2.set_xlabel('message_Length')\n",
    "ax2.set_ylabel('Density')\n",
    "\n",
    "#For Neutral \n",
    "sns.distplot(train[train['sentiment']==0]['message'].str.len(), hist=True, kde=True,\n",
    "             bins=int(200/25), color = 'purple',  \n",
    "             ax = ax3,\n",
    "             hist_kws={'edgecolor':'black'},\n",
    "             kde_kws={'linewidth': 4})\n",
    "ax3.set_title('Neutral ')\n",
    "ax3.set_xlabel('message_Length')\n",
    "ax3.set_ylabel('Density')\n",
    "\n",
    "#For Neews\n",
    "sns.distplot(train[train['sentiment']==2]['message'].str.len(), hist=True, kde=True,\n",
    "             bins=int(200/25), color = 'green', \n",
    "             ax = ax4,\n",
    "             hist_kws={'edgecolor':'black'},\n",
    "             kde_kws={'linewidth': 4})\n",
    "ax4.set_title('News')\n",
    "ax4.set_xlabel('message_Length')\n",
    "ax4.set_ylabel('Density')"
   ]
  },
  {
   "cell_type": "markdown",
   "metadata": {},
   "source": [
    "The average length of messages for all sentiments is not suprising as a tweet is only limited to 140 characters. It can be seen that the positive and negative sentiments has a high density contrst."
   ]
  },
  {
   "cell_type": "markdown",
   "metadata": {},
   "source": [
    " Now that we have explored our dataset, we can begin perfoming some analyses on it."
   ]
  },
  {
   "cell_type": "markdown",
   "metadata": {},
   "source": [
    "####   Checking the numerical distribution"
   ]
  },
  {
   "cell_type": "code",
   "execution_count": 272,
   "metadata": {},
   "outputs": [],
   "source": [
    "\n",
    "working_df = train.copy()\n",
    "# Labeling the target\n",
    "working_df['sentiment'] = [['Negative', 'Neutral', 'Positive', 'News'][x+1] for x in working_df['sentiment']]"
   ]
  },
  {
   "cell_type": "code",
   "execution_count": 184,
   "metadata": {},
   "outputs": [
    {
     "data": {
      "image/png": "[encoded data removed]",
      "text/plain": [
       "<Figure size 576x720 with 1 Axes>"
      ]
     },
     "metadata": {},
     "output_type": "display_data"
    }
   ],
   "source": [
    "# checking the numerical distribution\n",
    "plt.figure(figsize=(8,10))\n",
    "values = working_df['sentiment'].value_counts()/working_df.shape[0]\n",
    "labels = (working_df['sentiment'].value_counts()/working_df.shape[0]).index\n",
    "colors = ['lightgreen', 'blue', 'purple', 'lightsteelblue']\n",
    "plt.pie(x=values, labels=labels, autopct='%1.1f%%', startangle=90, explode= (0.04, 0, 0, 0), colors=colors)\n",
    "plt.show()"
   ]
  },
  {
   "cell_type": "markdown",
   "metadata": {},
   "source": [
    "The Pie-Chart Above shows that more than 50% of the tweet sample has positive sentiments about Climate Change. Tweets with negative Sentiments are the least. The news are also actively engaged on Climate Change as well, as we can see that they are the second popular."
   ]
  },
  {
   "cell_type": "code",
   "execution_count": 185,
   "metadata": {},
   "outputs": [
    {
     "data": {
      "image/png": "[encoded data removed]",
      "text/plain": [
       "<Figure size 648x360 with 1 Axes>"
      ]
     },
     "metadata": {
      "needs_background": "light"
     },
     "output_type": "display_data"
    }
   ],
   "source": [
    "plt.figure(figsize=(9,5))\n",
    "sns.countplot(x='sentiment' ,data = working_df, palette='PRGn')\n",
    "plt.ylabel('Count')\n",
    "plt.xlabel('Sentiment')\n",
    "plt.title('Number of Messages Per Sentiment')\n",
    "plt.show()"
   ]
  },
  {
   "cell_type": "markdown",
   "metadata": {},
   "source": [
    "In perspective, there are more than 8000 Positive tweets, and the news, being the second largest, has less than 4000 tweets. Negative tweets account for less than 20% of the Positive tweets.\n"
   ]
  },
  {
   "cell_type": "code",
   "execution_count": 186,
   "metadata": {},
   "outputs": [
    {
     "data": {
      "image/png": "[encoded data removed]",
      "text/plain": [
       "<Figure size 648x360 with 1 Axes>"
      ]
     },
     "metadata": {
      "needs_background": "light"
     },
     "output_type": "display_data"
    }
   ],
   "source": [
    "# Visualizing text lengths for each sentiment\n",
    "plt.figure(figsize=(9,5))\n",
    "sns.barplot(x='sentiment', y=working_df['message'].apply(len) ,data = working_df, palette='PRGn')\n",
    "plt.ylabel('Length')\n",
    "plt.xlabel('Sentiment')\n",
    "plt.title('Average Length of Message by Sentiment')\n",
    "plt.show()"
   ]
  },
  {
   "cell_type": "markdown",
   "metadata": {},
   "source": [
    "Here we see that both negative postive tweets have roughly the highest average length of tweets, with Positive having a slightly higher average\n",
    "\n"
   ]
  },
  {
   "cell_type": "markdown",
   "metadata": {},
   "source": [
    "Now we will Check whether a tagged user has any relation to the sentiment, and which users are most popular in each sentiment"
   ]
  },
  {
   "cell_type": "code",
   "execution_count": 187,
   "metadata": {},
   "outputs": [],
   "source": [
    "# Extracting Users in a column\n",
    "working_df['users'] = [''.join(re.findall(r'@\\w{,}', line)) \n",
    "                       if '@' in line else np.nan for line in working_df.message]"
   ]
  },
  {
   "cell_type": "code",
   "execution_count": 188,
   "metadata": {},
   "outputs": [],
   "source": [
    "# Generating Counts of users\n",
    "counts = working_df[['message', 'users']].groupby('users', as_index=False).count().sort_values(by='message', ascending=False)"
   ]
  },
  {
   "cell_type": "code",
   "execution_count": 189,
   "metadata": {},
   "outputs": [
    {
     "data": {
      "text/html": [
       "<div>\n",
       "<style scoped>\n",
       "    .dataframe tbody tr th:only-of-type {\n",
       "        vertical-align: middle;\n",
       "    }\n",
       "\n",
       "    .dataframe tbody tr th {\n",
       "        vertical-align: top;\n",
       "    }\n",
       "\n",
       "    .dataframe thead th {\n",
       "        text-align: right;\n",
       "    }\n",
       "</style>\n",
       "<table border=\"1\" class=\"dataframe\">\n",
       "  <thead>\n",
       "    <tr style=\"text-align: right;\">\n",
       "      <th></th>\n",
       "      <th>users</th>\n",
       "      <th>message</th>\n",
       "    </tr>\n",
       "  </thead>\n",
       "  <tbody>\n",
       "    <tr>\n",
       "      <th>3410</th>\n",
       "      <td>@StephenSchlegel</td>\n",
       "      <td>307</td>\n",
       "    </tr>\n",
       "    <tr>\n",
       "      <th>3270</th>\n",
       "      <td>@SenSanders</td>\n",
       "      <td>243</td>\n",
       "    </tr>\n",
       "    <tr>\n",
       "      <th>6182</th>\n",
       "      <td>@realDonaldTrump</td>\n",
       "      <td>143</td>\n",
       "    </tr>\n",
       "    <tr>\n",
       "      <th>448</th>\n",
       "      <td>@BernieSanders</td>\n",
       "      <td>121</td>\n",
       "    </tr>\n",
       "    <tr>\n",
       "      <th>612</th>\n",
       "      <td>@CNN</td>\n",
       "      <td>106</td>\n",
       "    </tr>\n",
       "  </tbody>\n",
       "</table>\n",
       "</div>"
      ],
      "text/plain": [
       "                 users  message\n",
       "3410  @StephenSchlegel  307    \n",
       "3270  @SenSanders       243    \n",
       "6182  @realDonaldTrump  143    \n",
       "448   @BernieSanders    121    \n",
       "612   @CNN              106    "
      ]
     },
     "execution_count": 189,
     "metadata": {},
     "output_type": "execute_result"
    }
   ],
   "source": [
    "# Top 5 most popular\n",
    "counts.head()"
   ]
  },
  {
   "cell_type": "code",
   "execution_count": 190,
   "metadata": {},
   "outputs": [
    {
     "data": {
      "image/png": "[encoded data removed]",
      "text/plain": [
       "<Figure size 576x720 with 1 Axes>"
      ]
     },
     "metadata": {},
     "output_type": "display_data"
    }
   ],
   "source": [
    "# checking the numerical distribution\n",
    "plt.figure(figsize=(8,10))\n",
    "values = [sum(np.array(counts['message']) == 1)/len(counts['message']), sum(np.array(counts['message']) != 1)/len(counts['message'])]\n",
    "labels = ['First Time Tags', 'Repeated Tags']\n",
    "colors = ['lightsteelblue', \"purple\"]\n",
    "plt.pie(x=values, labels=labels, autopct='%1.1f%%', startangle=90, explode= (0.04, 0), colors=colors)\n",
    "plt.show()"
   ]
  },
  {
   "cell_type": "markdown",
   "metadata": {},
   "source": [
    "14.6% of the tweets are certain users tagged more than once. "
   ]
  },
  {
   "cell_type": "code",
   "execution_count": 191,
   "metadata": {},
   "outputs": [
    {
     "data": {
      "image/png": "[encoded data removed]",
      "text/plain": [
       "<Figure size 576x720 with 1 Axes>"
      ]
     },
     "metadata": {
      "needs_background": "light"
     },
     "output_type": "display_data"
    }
   ],
   "source": [
    "# Analysis of most popular tags, sorted by populariy\n",
    "plt.figure(figsize=(8,10))\n",
    "sns.countplot(y=\"users\", hue=\"sentiment\", data=working_df, palette='PRGn',\n",
    "              order=working_df.users.value_counts().iloc[:20].index) \n",
    "\n",
    "plt.ylabel('User')\n",
    "plt.xlabel('Number of Tags')\n",
    "plt.title('Top 20 Most Popular Tags')\n",
    "plt.show()\n",
    "#plt.xticks(rotation=90)"
   ]
  },
  {
   "cell_type": "markdown",
   "metadata": {},
   "source": [
    "We can see from the graph that most tags are from Postive, Negative and News sentiments.  We can also see from the graph that @StephenSchlegel have the most positive tweets tags and the the former President of America, @realDonaldTrump has the most negative tweets tags."
   ]
  },
  {
   "cell_type": "markdown",
   "metadata": {},
   "source": [
    "Now, that we know that most of the tags comes from the Postive, Negative and News sentiments. Lets now analyse the tags and their users separately "
   ]
  },
  {
   "cell_type": "code",
   "execution_count": 192,
   "metadata": {},
   "outputs": [
    {
     "data": {
      "image/png": "[encoded data removed]",
      "text/plain": [
       "<Figure size 648x360 with 1 Axes>"
      ]
     },
     "metadata": {
      "needs_background": "light"
     },
     "output_type": "display_data"
    }
   ],
   "source": [
    "# Analysis of most popular tags, sorted by populariy\n",
    "plt.figure(figsize=(9,5))\n",
    "sns.countplot(x=\"users\", data=working_df[working_df['sentiment'] == 'Positive'],\n",
    "              order=working_df[working_df['sentiment'] == 'Positive'].users.value_counts().iloc[:20].index) \n",
    "\n",
    "plt.xlabel('User')\n",
    "plt.ylabel('Number of Tags')\n",
    "plt.title('Top 20 Positive Tags')\n",
    "plt.xticks(rotation=85)\n",
    "plt.show()"
   ]
  },
  {
   "cell_type": "code",
   "execution_count": 193,
   "metadata": {},
   "outputs": [
    {
     "data": {
      "image/png": "[encoded data removed]",
      "text/plain": [
       "<Figure size 648x360 with 1 Axes>"
      ]
     },
     "metadata": {
      "needs_background": "light"
     },
     "output_type": "display_data"
    }
   ],
   "source": [
    "# Analysis of most popular tags, sorted by populariy\n",
    "plt.figure(figsize=(9,5))\n",
    "sns.countplot(x=\"users\", data=working_df[working_df['sentiment'] == 'Negative'],\n",
    "              order=working_df[working_df['sentiment'] == 'Negative'].users.value_counts().iloc[:20].index) \n",
    "\n",
    "plt.xlabel('User')\n",
    "plt.ylabel('Number of Tags')\n",
    "plt.title('Top 20 Negative Tags')\n",
    "plt.xticks(rotation=85)\n",
    "plt.show()"
   ]
  },
  {
   "cell_type": "code",
   "execution_count": 194,
   "metadata": {},
   "outputs": [
    {
     "data": {
      "image/png": "[encoded data removed]",
      "text/plain": [
       "<Figure size 648x360 with 1 Axes>"
      ]
     },
     "metadata": {
      "needs_background": "light"
     },
     "output_type": "display_data"
    }
   ],
   "source": [
    "\n",
    "# Analysis of most popular tags, sorted by populariy\n",
    "plt.figure(figsize=(9,5))\n",
    "sns.countplot(x=\"users\", data=working_df[working_df['sentiment'] == 'News'],\n",
    "              order=working_df[working_df['sentiment'] == 'News'].users.value_counts().iloc[:20].index) \n",
    "\n",
    "plt.xlabel('User')\n",
    "plt.ylabel('Number of Tags')\n",
    "plt.title('Top 20 News Tags')\n",
    "plt.xticks(rotation=85)\n",
    "plt.show()"
   ]
  },
  {
   "cell_type": "markdown",
   "metadata": {},
   "source": [
    "The count of negative sentiments by a single tag is much less that that of the positive sentiments. On the positive sentiments, the threshhold count, was above 300, while on the negative, it is less than 60. However, we can see that the most popular tag associated with negative tweets at this time, was the former President of the U.S.A."
   ]
  },
  {
   "cell_type": "markdown",
   "metadata": {},
   "source": [
    "# 4. Data Preprocessing\n",
    "-------------\n"
   ]
  },
  {
   "cell_type": "markdown",
   "metadata": {},
   "source": [
    "The following methods will be used to clean and process our data\n",
    "\n",
    "- Letter casing: Converting all letters to either upper case or lower case. \n",
    "- Tokenizing: Eliminating unwanted characters, such as HTML tags, punctuation marks, special characters, white spaces etc.\n",
    "- Noise removal: Some words do not contribute much to the machine learning model, so it's good to remove them. A list of stopwords can be defined by the nltk library, or it can be business-specific.\n",
    "- Stopword removal: Normalization generally refers to a series of related tasks meant to put all text on the same level. Converting text to lower case, removing special characters, and removing stopwords will remove basic inconsistencies.\n",
    "- Normalization: Normalization improves text matching.\n",
    "- Stemming: Eliminating affixes (circumfixes, suffixes, prefixes, infixes) from a word in order to obtain a word stem. Porter Stemmer is the most widely used technique because it is very fast. Generally, stemming chops off end of the word, and mostly it works fine."
   ]
  },
  {
   "cell_type": "markdown",
   "metadata": {},
   "source": [
    "Lets have a look at what a typical tweet looks like to get an idea of what we can expect to see from the other tweets:"
   ]
  },
  {
   "cell_type": "markdown",
   "metadata": {},
   "source": [
    "#### Sample tweet"
   ]
  },
  {
   "cell_type": "code",
   "execution_count": 276,
   "metadata": {},
   "outputs": [
    {
     "name": "stdout",
     "output_type": "stream",
     "text": [
      "RT @thenation: Mike Pence doesn’t believe in global warming or that smoking causes lung cancer. https://t.co/gvWYaauU8R\n"
     ]
    }
   ],
   "source": [
    "tweet = train.iloc[6,1]\n",
    "print(tweet)"
   ]
  },
  {
   "cell_type": "markdown",
   "metadata": {},
   "source": [
    "\n",
    "Looking at the tweet above, we see that it contains the following:\n",
    "\n",
    "- Punctuation\n",
    "- Capital letters\n",
    "- Special characters\n",
    "- web link/url"
   ]
  },
  {
   "cell_type": "markdown",
   "metadata": {},
   "source": [
    "We can expect to find the listed items in all the tweets and we need to remove these to clean our tweets.\n",
    "\n",
    "We start cleaning our data by removing urls we expect to find in our tweets:"
   ]
  },
  {
   "cell_type": "code",
   "execution_count": 195,
   "metadata": {},
   "outputs": [
    {
     "name": "stdout",
     "output_type": "stream",
     "text": [
      "Removing URLs... for Train\n",
      "Removing URLs...for Test data\n"
     ]
    }
   ],
   "source": [
    "## Remove urls\n",
    "print ('Removing URLs... for Train')\n",
    "pattern_url = r'http[s]?://(?:[A-Za-z]|[0-9]|[$-_@.&+]|[!*\\(\\),]|(?:%[0-9A-Fa-f][0-9A-Fa-f]))+'\n",
    "subs_url = r'url-web'\n",
    "train['message'] = train['message'].replace(to_replace = pattern_url, value = subs_url, regex = True)\n",
    "\n",
    "## Remove urls test\n",
    "print ('Removing URLs...for Test data')\n",
    "pattern_url = r'http[s]?://(?:[A-Za-z]|[0-9]|[$-_@.&+]|[!*\\(\\),]|(?:%[0-9A-Fa-f][0-9A-Fa-f]))+'\n",
    "subs_url = r'url-web'\n",
    "test['message'] = test['message'].replace(to_replace = pattern_url, value = subs_url, regex = True)"
   ]
  },
  {
   "cell_type": "code",
   "execution_count": 196,
   "metadata": {},
   "outputs": [
    {
     "name": "stdout",
     "output_type": "stream",
     "text": [
      "Lowering case... Train\n",
      "Lowering case... Test\n"
     ]
    }
   ],
   "source": [
    "# Make lower case\n",
    "print ('Lowering case... Train')\n",
    "train['message'] = train['message'].str.lower()\n",
    "\n",
    "# Make lower case\n",
    "print ('Lowering case... Test')\n",
    "test['message'] = test['message'].str.lower()"
   ]
  },
  {
   "cell_type": "code",
   "execution_count": 197,
   "metadata": {},
   "outputs": [
    {
     "name": "stdout",
     "output_type": "stream",
     "text": [
      "Cleaning punctuation... for Test and Train using the below function\n"
     ]
    }
   ],
   "source": [
    "#Noise removal:\n",
    "print ('Cleaning punctuation... for Test and Train using the below function')\n",
    "def remove_punctuation_numbers(post):\n",
    "    punc_numbers = string.punctuation + '0123456789'\n",
    "    return ''.join([l for l in post if l not in punc_numbers])\n",
    "train['message'] = train['message'].apply(remove_punctuation_numbers)\n",
    "test['message'] = test['message'].apply(remove_punctuation_numbers)"
   ]
  },
  {
   "cell_type": "code",
   "execution_count": 198,
   "metadata": {},
   "outputs": [
    {
     "name": "stdout",
     "output_type": "stream",
     "text": [
      "removing stowords.... Train\n",
      "removing stowords.... Test\n"
     ]
    }
   ],
   "source": [
    "#Stopword removal:\n",
    "print('removing stowords.... Train')\n",
    "vect = CountVectorizer(stop_words='english', min_df= .01)\n",
    "X = vect.fit_transform(train['message'])\n",
    "\n",
    "print('removing stowords.... Test')\n",
    "vect = CountVectorizer(stop_words='english', min_df= .01)\n",
    "X = vect.fit_transform(test['message'])"
   ]
  },
  {
   "cell_type": "code",
   "execution_count": 199,
   "metadata": {},
   "outputs": [
    {
     "name": "stdout",
     "output_type": "stream",
     "text": [
      "removing NonAscii\n"
     ]
    }
   ],
   "source": [
    "#Removed NonAscii\n",
    "print ('removing NonAscii')\n",
    "def _removeNonAscii(s): return \"\".join(i for i in s if ord(i)<128)\n",
    "train['message'] = train['message'].apply(_removeNonAscii)\n",
    "test['message'] = test['message'].apply(_removeNonAscii)"
   ]
  },
  {
   "cell_type": "code",
   "execution_count": 200,
   "metadata": {},
   "outputs": [],
   "source": [
    "#Eliminating affixes (circumfixes, suffixes, prefixes, infixes) from a word in order to obtain a word stem\n",
    "ps = PorterStemmer()\n",
    "stemmed_words = [ps.stem(w) for w in train['message']]\n",
    "stemmed_words = [ps.stem(w) for w in test['message']]\n",
    "\n",
    "#lemmatizer = WordNetLemmatizer()\n",
    "#lemma_words = [lemmatizer.lemmatize(w, pos='a') for w in train['message']]\n",
    "#lemma_words = [lemmatizer.lemmatize(w, pos='a') for w in test['message']]"
   ]
  },
  {
   "cell_type": "code",
   "execution_count": 201,
   "metadata": {
    "scrolled": true
   },
   "outputs": [
    {
     "data": {
      "text/html": [
       "<div>\n",
       "<style scoped>\n",
       "    .dataframe tbody tr th:only-of-type {\n",
       "        vertical-align: middle;\n",
       "    }\n",
       "\n",
       "    .dataframe tbody tr th {\n",
       "        vertical-align: top;\n",
       "    }\n",
       "\n",
       "    .dataframe thead th {\n",
       "        text-align: right;\n",
       "    }\n",
       "</style>\n",
       "<table border=\"1\" class=\"dataframe\">\n",
       "  <thead>\n",
       "    <tr style=\"text-align: right;\">\n",
       "      <th></th>\n",
       "      <th>sentiment</th>\n",
       "      <th>message</th>\n",
       "      <th>tweetid</th>\n",
       "    </tr>\n",
       "  </thead>\n",
       "  <tbody>\n",
       "    <tr>\n",
       "      <th>0</th>\n",
       "      <td>1</td>\n",
       "      <td>polyscimajor epa chief doesnt think carbon dioxide is main cause of global warming and wait what urlweb via mashable</td>\n",
       "      <td>625221</td>\n",
       "    </tr>\n",
       "    <tr>\n",
       "      <th>1</th>\n",
       "      <td>1</td>\n",
       "      <td>its not like we lack evidence of anthropogenic global warming</td>\n",
       "      <td>126103</td>\n",
       "    </tr>\n",
       "    <tr>\n",
       "      <th>2</th>\n",
       "      <td>2</td>\n",
       "      <td>rt rawstory researchers say we have three years to act on climate change before its too late urlweb urlweb</td>\n",
       "      <td>698562</td>\n",
       "    </tr>\n",
       "    <tr>\n",
       "      <th>3</th>\n",
       "      <td>1</td>\n",
       "      <td>todayinmaker wired   was a pivotal year in the war on climate change urlweb</td>\n",
       "      <td>573736</td>\n",
       "    </tr>\n",
       "    <tr>\n",
       "      <th>4</th>\n",
       "      <td>1</td>\n",
       "      <td>rt soynoviodetodas its  and a racist sexist climate change denying bigot is leading in the polls electionnight</td>\n",
       "      <td>466954</td>\n",
       "    </tr>\n",
       "  </tbody>\n",
       "</table>\n",
       "</div>"
      ],
      "text/plain": [
       "   sentiment  \\\n",
       "0  1           \n",
       "1  1           \n",
       "2  2           \n",
       "3  1           \n",
       "4  1           \n",
       "\n",
       "                                                                                                                message  \\\n",
       "0  polyscimajor epa chief doesnt think carbon dioxide is main cause of global warming and wait what urlweb via mashable   \n",
       "1  its not like we lack evidence of anthropogenic global warming                                                          \n",
       "2  rt rawstory researchers say we have three years to act on climate change before its too late urlweb urlweb             \n",
       "3  todayinmaker wired   was a pivotal year in the war on climate change urlweb                                            \n",
       "4  rt soynoviodetodas its  and a racist sexist climate change denying bigot is leading in the polls electionnight         \n",
       "\n",
       "   tweetid  \n",
       "0  625221   \n",
       "1  126103   \n",
       "2  698562   \n",
       "3  573736   \n",
       "4  466954   "
      ]
     },
     "execution_count": 201,
     "metadata": {},
     "output_type": "execute_result"
    }
   ],
   "source": [
    "pd.set_option('display.max_colwidth', -1)\n",
    "train.head()"
   ]
  },
  {
   "cell_type": "markdown",
   "metadata": {},
   "source": [
    "Now, our data is clean, we can building our model"
   ]
  },
  {
   "cell_type": "markdown",
   "metadata": {},
   "source": [
    "# 5. Model Building\n",
    "-------------\n"
   ]
  },
  {
   "cell_type": "markdown",
   "metadata": {},
   "source": [
    "#### Models to be trained:"
   ]
  },
  {
   "cell_type": "markdown",
   "metadata": {},
   "source": [
    "\n",
    "- Logistic Regression\n",
    "- Support Vector Classification (SVC)\n",
    "- Linear SVC\n",
    "- Random Forest Classifier\n"
   ]
  },
  {
   "cell_type": "markdown",
   "metadata": {},
   "source": [
    "## Training with inbalanced data"
   ]
  },
  {
   "cell_type": "markdown",
   "metadata": {},
   "source": [
    "#### Train Test Split"
   ]
  },
  {
   "cell_type": "markdown",
   "metadata": {},
   "source": [
    "Split the train_data into training and testing data. This is to make sure that there isn't any leakage of information when we actually fit the test_data that we imported. To avoid overfitting, we are using the train_data to train and test our models."
   ]
  },
  {
   "cell_type": "code",
   "execution_count": 202,
   "metadata": {},
   "outputs": [],
   "source": [
    "#Splitting you Data for X and Y\n",
    "X_NT = train['message']\n",
    "y = train['sentiment']"
   ]
  },
  {
   "cell_type": "markdown",
   "metadata": {},
   "source": [
    "#### Vectorization"
   ]
  },
  {
   "cell_type": "markdown",
   "metadata": {},
   "source": [
    "Vectorizing is the process to convert tokens to numbers. It is an important step because the machine learning algorithm works with numbers and not text. In this guide, we'll implement vectorization using tf-idf. There are other techniques as well, such as Bag of Words and N-grams."
   ]
  },
  {
   "cell_type": "code",
   "execution_count": 203,
   "metadata": {},
   "outputs": [],
   "source": [
    "#vector = TfidfVectorizer(sublinear_tf=True)\n",
    "vector = TfidfVectorizer(ngram_range=(1,2), min_df=2)\n",
    "X =vector.fit_transform(X_NT)"
   ]
  },
  {
   "cell_type": "markdown",
   "metadata": {},
   "source": [
    "#### Train-test split:"
   ]
  },
  {
   "cell_type": "code",
   "execution_count": 204,
   "metadata": {},
   "outputs": [],
   "source": [
    "X_train, X_test, y_train, y_test = train_test_split(X, y, test_size=0.2, random_state=42)"
   ]
  },
  {
   "cell_type": "markdown",
   "metadata": {},
   "source": [
    "### Model training and Predictions"
   ]
  },
  {
   "cell_type": "markdown",
   "metadata": {},
   "source": [
    "#### Random Forest Classifier"
   ]
  },
  {
   "cell_type": "markdown",
   "metadata": {},
   "source": [
    "Random forest models are an example of an ensemble method that is built on decision trees (i.e. it relies on aggregating the results of an ensemble of decision trees). Decision tree machine learning models represent data by partitioning it into different sections based on questions asked of independent variables in the data. Training data is placed at the root node and is then partitioned into smaller subsets which form the 'branches' of the tree. In random forest models, the trees are randomized and the model returns the mean prediction of all the individual trees"
   ]
  },
  {
   "cell_type": "code",
   "execution_count": 205,
   "metadata": {},
   "outputs": [
    {
     "name": "stdout",
     "output_type": "stream",
     "text": [
      "accuracy_score 0.7142857142857143\n"
     ]
    },
    {
     "data": {
      "text/html": [
       "<div>\n",
       "<style scoped>\n",
       "    .dataframe tbody tr th:only-of-type {\n",
       "        vertical-align: middle;\n",
       "    }\n",
       "\n",
       "    .dataframe tbody tr th {\n",
       "        vertical-align: top;\n",
       "    }\n",
       "\n",
       "    .dataframe thead th {\n",
       "        text-align: right;\n",
       "    }\n",
       "</style>\n",
       "<table border=\"1\" class=\"dataframe\">\n",
       "  <thead>\n",
       "    <tr style=\"text-align: right;\">\n",
       "      <th></th>\n",
       "      <th>precision</th>\n",
       "      <th>recall</th>\n",
       "      <th>f1-score</th>\n",
       "      <th>support</th>\n",
       "    </tr>\n",
       "  </thead>\n",
       "  <tbody>\n",
       "    <tr>\n",
       "      <th>-1</th>\n",
       "      <td>0.958333</td>\n",
       "      <td>0.165468</td>\n",
       "      <td>0.282209</td>\n",
       "      <td>278.000000</td>\n",
       "    </tr>\n",
       "    <tr>\n",
       "      <th>0</th>\n",
       "      <td>0.638498</td>\n",
       "      <td>0.320000</td>\n",
       "      <td>0.426332</td>\n",
       "      <td>425.000000</td>\n",
       "    </tr>\n",
       "    <tr>\n",
       "      <th>1</th>\n",
       "      <td>0.698302</td>\n",
       "      <td>0.913960</td>\n",
       "      <td>0.791708</td>\n",
       "      <td>1755.000000</td>\n",
       "    </tr>\n",
       "    <tr>\n",
       "      <th>2</th>\n",
       "      <td>0.782178</td>\n",
       "      <td>0.671388</td>\n",
       "      <td>0.722561</td>\n",
       "      <td>706.000000</td>\n",
       "    </tr>\n",
       "    <tr>\n",
       "      <th>accuracy</th>\n",
       "      <td>0.714286</td>\n",
       "      <td>0.714286</td>\n",
       "      <td>0.714286</td>\n",
       "      <td>0.714286</td>\n",
       "    </tr>\n",
       "    <tr>\n",
       "      <th>macro avg</th>\n",
       "      <td>0.769328</td>\n",
       "      <td>0.517704</td>\n",
       "      <td>0.555702</td>\n",
       "      <td>3164.000000</td>\n",
       "    </tr>\n",
       "    <tr>\n",
       "      <th>weighted avg</th>\n",
       "      <td>0.731832</td>\n",
       "      <td>0.714286</td>\n",
       "      <td>0.682434</td>\n",
       "      <td>3164.000000</td>\n",
       "    </tr>\n",
       "  </tbody>\n",
       "</table>\n",
       "</div>"
      ],
      "text/plain": [
       "              precision    recall  f1-score      support\n",
       "-1            0.958333   0.165468  0.282209  278.000000 \n",
       "0             0.638498   0.320000  0.426332  425.000000 \n",
       "1             0.698302   0.913960  0.791708  1755.000000\n",
       "2             0.782178   0.671388  0.722561  706.000000 \n",
       "accuracy      0.714286   0.714286  0.714286  0.714286   \n",
       "macro avg     0.769328   0.517704  0.555702  3164.000000\n",
       "weighted avg  0.731832   0.714286  0.682434  3164.000000"
      ]
     },
     "execution_count": 205,
     "metadata": {},
     "output_type": "execute_result"
    }
   ],
   "source": [
    "rfc = RandomForestClassifier()\n",
    "rfc.fit(X_train, y_train)\n",
    "rfc_pred = rfc.predict(X_test)\n",
    "rf_accuracy = accuracy_score(y_test,rfc_pred)\n",
    "rf_f1 = round(f1_score(y_test, rfc_pred, average='weighted'),4)\n",
    "print('accuracy_score',accuracy_score(y_test, rfc_pred))\n",
    "report = classification_report(y_test, rfc_pred, output_dict=True)\n",
    "pd.DataFrame(report).transpose()"
   ]
  },
  {
   "cell_type": "markdown",
   "metadata": {},
   "source": [
    "#### LinearSVC"
   ]
  },
  {
   "cell_type": "markdown",
   "metadata": {},
   "source": [
    "The objective of a Linear Support Vector Classifier is to return a \"best fit\" hyperplane that categorises the data. It is similar to SVC with the kernel parameter set to ’linear’, but it is implemented in terms of liblinear rather than libsvm, so it has more flexibility in the choice of penalties and loss functions and can scale better to large numbers of samples."
   ]
  },
  {
   "cell_type": "code",
   "execution_count": 206,
   "metadata": {},
   "outputs": [
    {
     "name": "stdout",
     "output_type": "stream",
     "text": [
      "accuracy_score 0.7689633375474083\n"
     ]
    },
    {
     "data": {
      "text/html": [
       "<div>\n",
       "<style scoped>\n",
       "    .dataframe tbody tr th:only-of-type {\n",
       "        vertical-align: middle;\n",
       "    }\n",
       "\n",
       "    .dataframe tbody tr th {\n",
       "        vertical-align: top;\n",
       "    }\n",
       "\n",
       "    .dataframe thead th {\n",
       "        text-align: right;\n",
       "    }\n",
       "</style>\n",
       "<table border=\"1\" class=\"dataframe\">\n",
       "  <thead>\n",
       "    <tr style=\"text-align: right;\">\n",
       "      <th></th>\n",
       "      <th>precision</th>\n",
       "      <th>recall</th>\n",
       "      <th>f1-score</th>\n",
       "      <th>support</th>\n",
       "    </tr>\n",
       "  </thead>\n",
       "  <tbody>\n",
       "    <tr>\n",
       "      <th>-1</th>\n",
       "      <td>0.771930</td>\n",
       "      <td>0.474820</td>\n",
       "      <td>0.587973</td>\n",
       "      <td>278.000000</td>\n",
       "    </tr>\n",
       "    <tr>\n",
       "      <th>0</th>\n",
       "      <td>0.607717</td>\n",
       "      <td>0.444706</td>\n",
       "      <td>0.513587</td>\n",
       "      <td>425.000000</td>\n",
       "    </tr>\n",
       "    <tr>\n",
       "      <th>1</th>\n",
       "      <td>0.793316</td>\n",
       "      <td>0.879202</td>\n",
       "      <td>0.834054</td>\n",
       "      <td>1755.000000</td>\n",
       "    </tr>\n",
       "    <tr>\n",
       "      <th>2</th>\n",
       "      <td>0.772049</td>\n",
       "      <td>0.805949</td>\n",
       "      <td>0.788635</td>\n",
       "      <td>706.000000</td>\n",
       "    </tr>\n",
       "    <tr>\n",
       "      <th>accuracy</th>\n",
       "      <td>0.768963</td>\n",
       "      <td>0.768963</td>\n",
       "      <td>0.768963</td>\n",
       "      <td>0.768963</td>\n",
       "    </tr>\n",
       "    <tr>\n",
       "      <th>macro avg</th>\n",
       "      <td>0.736253</td>\n",
       "      <td>0.651169</td>\n",
       "      <td>0.681062</td>\n",
       "      <td>3164.000000</td>\n",
       "    </tr>\n",
       "    <tr>\n",
       "      <th>weighted avg</th>\n",
       "      <td>0.761761</td>\n",
       "      <td>0.768963</td>\n",
       "      <td>0.759252</td>\n",
       "      <td>3164.000000</td>\n",
       "    </tr>\n",
       "  </tbody>\n",
       "</table>\n",
       "</div>"
      ],
      "text/plain": [
       "              precision    recall  f1-score      support\n",
       "-1            0.771930   0.474820  0.587973  278.000000 \n",
       "0             0.607717   0.444706  0.513587  425.000000 \n",
       "1             0.793316   0.879202  0.834054  1755.000000\n",
       "2             0.772049   0.805949  0.788635  706.000000 \n",
       "accuracy      0.768963   0.768963  0.768963  0.768963   \n",
       "macro avg     0.736253   0.651169  0.681062  3164.000000\n",
       "weighted avg  0.761761   0.768963  0.759252  3164.000000"
      ]
     },
     "execution_count": 206,
     "metadata": {},
     "output_type": "execute_result"
    }
   ],
   "source": [
    "lsvc = LinearSVC(C=0.8, verbose=0)\n",
    "lsvc.fit(X_train,  y_train)\n",
    "lsvc_pred = lsvc.predict(X_test)\n",
    "lsvc_accuracy = accuracy_score(y_test,lsvc_pred)\n",
    "lsvc_f1 = round(f1_score(y_test, lsvc_pred, average='weighted'),4)\n",
    "print('accuracy_score',accuracy_score(y_test, lsvc_pred))\n",
    "report = classification_report(y_test, lsvc_pred, output_dict=True)\n",
    "pd.DataFrame(report).transpose()\n"
   ]
  },
  {
   "cell_type": "markdown",
   "metadata": {},
   "source": [
    "#### Support Vector Classifier"
   ]
  },
  {
   "cell_type": "markdown",
   "metadata": {},
   "source": [
    "A Support Vector Classifier is a discriminative classifier formally defined by a separating hyperplane. When labelled training data is passed to the model, also known as supervised learning, the algorithm outputs an optimal hyperplane which categorizes new data"
   ]
  },
  {
   "cell_type": "code",
   "execution_count": 207,
   "metadata": {
    "scrolled": true
   },
   "outputs": [
    {
     "name": "stdout",
     "output_type": "stream",
     "text": [
      "accuracy_score 0.7654867256637168\n"
     ]
    },
    {
     "data": {
      "text/html": [
       "<div>\n",
       "<style scoped>\n",
       "    .dataframe tbody tr th:only-of-type {\n",
       "        vertical-align: middle;\n",
       "    }\n",
       "\n",
       "    .dataframe tbody tr th {\n",
       "        vertical-align: top;\n",
       "    }\n",
       "\n",
       "    .dataframe thead th {\n",
       "        text-align: right;\n",
       "    }\n",
       "</style>\n",
       "<table border=\"1\" class=\"dataframe\">\n",
       "  <thead>\n",
       "    <tr style=\"text-align: right;\">\n",
       "      <th></th>\n",
       "      <th>precision</th>\n",
       "      <th>recall</th>\n",
       "      <th>f1-score</th>\n",
       "      <th>support</th>\n",
       "    </tr>\n",
       "  </thead>\n",
       "  <tbody>\n",
       "    <tr>\n",
       "      <th>-1</th>\n",
       "      <td>0.848000</td>\n",
       "      <td>0.381295</td>\n",
       "      <td>0.526055</td>\n",
       "      <td>278.000000</td>\n",
       "    </tr>\n",
       "    <tr>\n",
       "      <th>0</th>\n",
       "      <td>0.620301</td>\n",
       "      <td>0.388235</td>\n",
       "      <td>0.477569</td>\n",
       "      <td>425.000000</td>\n",
       "    </tr>\n",
       "    <tr>\n",
       "      <th>1</th>\n",
       "      <td>0.762518</td>\n",
       "      <td>0.911111</td>\n",
       "      <td>0.830218</td>\n",
       "      <td>1755.000000</td>\n",
       "    </tr>\n",
       "    <tr>\n",
       "      <th>2</th>\n",
       "      <td>0.816568</td>\n",
       "      <td>0.781870</td>\n",
       "      <td>0.798842</td>\n",
       "      <td>706.000000</td>\n",
       "    </tr>\n",
       "    <tr>\n",
       "      <th>accuracy</th>\n",
       "      <td>0.765487</td>\n",
       "      <td>0.765487</td>\n",
       "      <td>0.765487</td>\n",
       "      <td>0.765487</td>\n",
       "    </tr>\n",
       "    <tr>\n",
       "      <th>macro avg</th>\n",
       "      <td>0.761847</td>\n",
       "      <td>0.615628</td>\n",
       "      <td>0.658171</td>\n",
       "      <td>3164.000000</td>\n",
       "    </tr>\n",
       "    <tr>\n",
       "      <th>weighted avg</th>\n",
       "      <td>0.762986</td>\n",
       "      <td>0.765487</td>\n",
       "      <td>0.749123</td>\n",
       "      <td>3164.000000</td>\n",
       "    </tr>\n",
       "  </tbody>\n",
       "</table>\n",
       "</div>"
      ],
      "text/plain": [
       "              precision    recall  f1-score      support\n",
       "-1            0.848000   0.381295  0.526055  278.000000 \n",
       "0             0.620301   0.388235  0.477569  425.000000 \n",
       "1             0.762518   0.911111  0.830218  1755.000000\n",
       "2             0.816568   0.781870  0.798842  706.000000 \n",
       "accuracy      0.765487   0.765487  0.765487  0.765487   \n",
       "macro avg     0.761847   0.615628  0.658171  3164.000000\n",
       "weighted avg  0.762986   0.765487  0.749123  3164.000000"
      ]
     },
     "execution_count": 207,
     "metadata": {},
     "output_type": "execute_result"
    }
   ],
   "source": [
    "svc = SVC(gamma = 0.8, C = 10, random_state=42)\n",
    "svc.fit(X_train, y_train)\n",
    "y_pred_svc = svc.predict(X_test)\n",
    "svc_accuracy = accuracy_score(y_test,y_pred_svc)\n",
    "svc_f1 = round(f1_score(y_test, y_pred_svc, average='weighted'),4)\n",
    "print('accuracy_score',accuracy_score(y_test, y_pred_svc))\n",
    "report = classification_report(y_test, y_pred_svc, output_dict=True)\n",
    "pd.DataFrame(report).transpose()"
   ]
  },
  {
   "cell_type": "markdown",
   "metadata": {},
   "source": [
    "#### Logistic Regression Model"
   ]
  },
  {
   "cell_type": "markdown",
   "metadata": {},
   "source": [
    "Logistic regression is a statistical model that makes use of a logistic function to model a binary dependent variable, however, multiclass classification with logistic regression can be done through the one-vs-rest scheme in which a separate model is trained for each class to predict whether an observation is that class or not (thus making it a binary classification problem)"
   ]
  },
  {
   "cell_type": "code",
   "execution_count": 208,
   "metadata": {},
   "outputs": [
    {
     "name": "stdout",
     "output_type": "stream",
     "text": [
      "accuracy_score 0.7699115044247787\n"
     ]
    },
    {
     "data": {
      "text/html": [
       "<div>\n",
       "<style scoped>\n",
       "    .dataframe tbody tr th:only-of-type {\n",
       "        vertical-align: middle;\n",
       "    }\n",
       "\n",
       "    .dataframe tbody tr th {\n",
       "        vertical-align: top;\n",
       "    }\n",
       "\n",
       "    .dataframe thead th {\n",
       "        text-align: right;\n",
       "    }\n",
       "</style>\n",
       "<table border=\"1\" class=\"dataframe\">\n",
       "  <thead>\n",
       "    <tr style=\"text-align: right;\">\n",
       "      <th></th>\n",
       "      <th>precision</th>\n",
       "      <th>recall</th>\n",
       "      <th>f1-score</th>\n",
       "      <th>support</th>\n",
       "    </tr>\n",
       "  </thead>\n",
       "  <tbody>\n",
       "    <tr>\n",
       "      <th>-1</th>\n",
       "      <td>0.774390</td>\n",
       "      <td>0.456835</td>\n",
       "      <td>0.574661</td>\n",
       "      <td>278.000000</td>\n",
       "    </tr>\n",
       "    <tr>\n",
       "      <th>0</th>\n",
       "      <td>0.589666</td>\n",
       "      <td>0.456471</td>\n",
       "      <td>0.514589</td>\n",
       "      <td>425.000000</td>\n",
       "    </tr>\n",
       "    <tr>\n",
       "      <th>1</th>\n",
       "      <td>0.790793</td>\n",
       "      <td>0.880912</td>\n",
       "      <td>0.833423</td>\n",
       "      <td>1755.000000</td>\n",
       "    </tr>\n",
       "    <tr>\n",
       "      <th>2</th>\n",
       "      <td>0.794693</td>\n",
       "      <td>0.805949</td>\n",
       "      <td>0.800281</td>\n",
       "      <td>706.000000</td>\n",
       "    </tr>\n",
       "    <tr>\n",
       "      <th>accuracy</th>\n",
       "      <td>0.769912</td>\n",
       "      <td>0.769912</td>\n",
       "      <td>0.769912</td>\n",
       "      <td>0.769912</td>\n",
       "    </tr>\n",
       "    <tr>\n",
       "      <th>macro avg</th>\n",
       "      <td>0.737385</td>\n",
       "      <td>0.650041</td>\n",
       "      <td>0.680738</td>\n",
       "      <td>3164.000000</td>\n",
       "    </tr>\n",
       "    <tr>\n",
       "      <th>weighted avg</th>\n",
       "      <td>0.763206</td>\n",
       "      <td>0.769912</td>\n",
       "      <td>0.760465</td>\n",
       "      <td>3164.000000</td>\n",
       "    </tr>\n",
       "  </tbody>\n",
       "</table>\n",
       "</div>"
      ],
      "text/plain": [
       "              precision    recall  f1-score      support\n",
       "-1            0.774390   0.456835  0.574661  278.000000 \n",
       "0             0.589666   0.456471  0.514589  425.000000 \n",
       "1             0.790793   0.880912  0.833423  1755.000000\n",
       "2             0.794693   0.805949  0.800281  706.000000 \n",
       "accuracy      0.769912   0.769912  0.769912  0.769912   \n",
       "macro avg     0.737385   0.650041  0.680738  3164.000000\n",
       "weighted avg  0.763206   0.769912  0.760465  3164.000000"
      ]
     },
     "execution_count": 208,
     "metadata": {},
     "output_type": "execute_result"
    }
   ],
   "source": [
    "#logist = LogisticRegression()\n",
    "LR_model = LogisticRegression(C=10)\n",
    "LR_model.fit(X_train, y_train)\n",
    "y_predict_lr= LR_model.predict(X_test)\n",
    "lr_accuracy = accuracy_score(y_test,y_predict_lr)\n",
    "lr_f1 = round(f1_score(y_test, y_predict_lr, average='weighted'),4)\n",
    "print('accuracy_score',accuracy_score(y_test, y_predict_lr))\n",
    "report = classification_report(y_test, y_predict_lr, output_dict=True)\n",
    "pd.DataFrame(report).transpose()"
   ]
  },
  {
   "cell_type": "markdown",
   "metadata": {},
   "source": [
    "#### Models f-1 score (Inbalanced Data)"
   ]
  },
  {
   "cell_type": "code",
   "execution_count": 255,
   "metadata": {},
   "outputs": [
    {
     "data": {
      "text/html": [
       "<div>\n",
       "<style scoped>\n",
       "    .dataframe tbody tr th:only-of-type {\n",
       "        vertical-align: middle;\n",
       "    }\n",
       "\n",
       "    .dataframe tbody tr th {\n",
       "        vertical-align: top;\n",
       "    }\n",
       "\n",
       "    .dataframe thead th {\n",
       "        text-align: right;\n",
       "    }\n",
       "</style>\n",
       "<table border=\"1\" class=\"dataframe\">\n",
       "  <thead>\n",
       "    <tr style=\"text-align: right;\">\n",
       "      <th></th>\n",
       "      <th>Model</th>\n",
       "      <th>f-1 Score</th>\n",
       "    </tr>\n",
       "  </thead>\n",
       "  <tbody>\n",
       "    <tr>\n",
       "      <th>0</th>\n",
       "      <td>Logistic Regression</td>\n",
       "      <td>0.7605</td>\n",
       "    </tr>\n",
       "    <tr>\n",
       "      <th>1</th>\n",
       "      <td>Support Vector Classifier</td>\n",
       "      <td>0.7491</td>\n",
       "    </tr>\n",
       "    <tr>\n",
       "      <th>2</th>\n",
       "      <td>Linear SVC</td>\n",
       "      <td>0.7593</td>\n",
       "    </tr>\n",
       "    <tr>\n",
       "      <th>3</th>\n",
       "      <td>Random Forest Classifier</td>\n",
       "      <td>0.6824</td>\n",
       "    </tr>\n",
       "  </tbody>\n",
       "</table>\n",
       "</div>"
      ],
      "text/plain": [
       "                       Model  f-1 Score\n",
       "0  Logistic Regression        0.7605   \n",
       "1  Support Vector Classifier  0.7491   \n",
       "2  Linear SVC                 0.7593   \n",
       "3  Random Forest Classifier   0.6824   "
      ]
     },
     "execution_count": 255,
     "metadata": {},
     "output_type": "execute_result"
    }
   ],
   "source": [
    "mydict = {f'Logistic Regression': lr_f1,\n",
    "          f'Support Vector Classifier': svc_f1, \n",
    "          f'Linear SVC': lsvc_f1, \n",
    "          f'Random Forest Classifier': rf_f1\n",
    "         }\n",
    "\n",
    "i = pd.DataFrame(mydict.items(), columns=['Model', 'f-1 Score'])\n",
    "i"
   ]
  },
  {
   "cell_type": "markdown",
   "metadata": {},
   "source": [
    "From the table above we can see that the Logistic Regression model performed the best, followed by Linear SVC and Support Vector Classifier when trained with inbalanced data."
   ]
  },
  {
   "cell_type": "markdown",
   "metadata": {},
   "source": [
    "##  Balancing the classes"
   ]
  },
  {
   "cell_type": "markdown",
   "metadata": {},
   "source": [
    "Since our dataset is quite imbalanced, we would like to do some sampling so that our model won't overfit:"
   ]
  },
  {
   "cell_type": "code",
   "execution_count": 210,
   "metadata": {},
   "outputs": [],
   "source": [
    "max_size = train['sentiment'].value_counts().max()"
   ]
  },
  {
   "cell_type": "code",
   "execution_count": 211,
   "metadata": {},
   "outputs": [],
   "source": [
    "\n",
    "lst = [train]\n",
    "for class_index, group in train.groupby('sentiment'):\n",
    "    lst.append(group.sample(max_size - len(group), replace=True))\n",
    "train_new = pd.concat(lst)"
   ]
  },
  {
   "cell_type": "code",
   "execution_count": 212,
   "metadata": {},
   "outputs": [
    {
     "data": {
      "text/plain": [
       "-1    8530\n",
       " 2    8530\n",
       " 1    8530\n",
       " 0    8530\n",
       "Name: sentiment, dtype: int64"
      ]
     },
     "execution_count": 212,
     "metadata": {},
     "output_type": "execute_result"
    }
   ],
   "source": [
    "train_new['sentiment'].value_counts()"
   ]
  },
  {
   "cell_type": "markdown",
   "metadata": {},
   "source": [
    "Now we have a more balanced dataset:"
   ]
  },
  {
   "cell_type": "markdown",
   "metadata": {},
   "source": [
    "### Training with balanced data"
   ]
  },
  {
   "cell_type": "code",
   "execution_count": 213,
   "metadata": {},
   "outputs": [],
   "source": [
    "#Splitting you Data for X and Y\n",
    "X_nt = train_new['message']\n",
    "y = train_new['sentiment']\n",
    "\n",
    "#vector = TfidfVectorizer(sublinear_tf=True)\n",
    "vector = TfidfVectorizer(ngram_range=(1,2), min_df=2)\n",
    "X =vector.fit_transform(X_nt)\n",
    "\n",
    "X_train, X_test, y_train, y_test = train_test_split(X, y, test_size=0.2, random_state=42)"
   ]
  },
  {
   "cell_type": "markdown",
   "metadata": {},
   "source": [
    "#### Random Forest Classifier"
   ]
  },
  {
   "cell_type": "code",
   "execution_count": 214,
   "metadata": {},
   "outputs": [
    {
     "name": "stdout",
     "output_type": "stream",
     "text": [
      "accuracy_score 0.953253223915592\n"
     ]
    },
    {
     "data": {
      "text/html": [
       "<div>\n",
       "<style scoped>\n",
       "    .dataframe tbody tr th:only-of-type {\n",
       "        vertical-align: middle;\n",
       "    }\n",
       "\n",
       "    .dataframe tbody tr th {\n",
       "        vertical-align: top;\n",
       "    }\n",
       "\n",
       "    .dataframe thead th {\n",
       "        text-align: right;\n",
       "    }\n",
       "</style>\n",
       "<table border=\"1\" class=\"dataframe\">\n",
       "  <thead>\n",
       "    <tr style=\"text-align: right;\">\n",
       "      <th></th>\n",
       "      <th>precision</th>\n",
       "      <th>recall</th>\n",
       "      <th>f1-score</th>\n",
       "      <th>support</th>\n",
       "    </tr>\n",
       "  </thead>\n",
       "  <tbody>\n",
       "    <tr>\n",
       "      <th>-1</th>\n",
       "      <td>0.992887</td>\n",
       "      <td>0.998807</td>\n",
       "      <td>0.995838</td>\n",
       "      <td>1677.000000</td>\n",
       "    </tr>\n",
       "    <tr>\n",
       "      <th>0</th>\n",
       "      <td>0.944023</td>\n",
       "      <td>0.976478</td>\n",
       "      <td>0.959976</td>\n",
       "      <td>1658.000000</td>\n",
       "    </tr>\n",
       "    <tr>\n",
       "      <th>1</th>\n",
       "      <td>0.938564</td>\n",
       "      <td>0.891908</td>\n",
       "      <td>0.914641</td>\n",
       "      <td>1730.000000</td>\n",
       "    </tr>\n",
       "    <tr>\n",
       "      <th>2</th>\n",
       "      <td>0.938133</td>\n",
       "      <td>0.948266</td>\n",
       "      <td>0.943172</td>\n",
       "      <td>1759.000000</td>\n",
       "    </tr>\n",
       "    <tr>\n",
       "      <th>accuracy</th>\n",
       "      <td>0.953253</td>\n",
       "      <td>0.953253</td>\n",
       "      <td>0.953253</td>\n",
       "      <td>0.953253</td>\n",
       "    </tr>\n",
       "    <tr>\n",
       "      <th>macro avg</th>\n",
       "      <td>0.953402</td>\n",
       "      <td>0.953865</td>\n",
       "      <td>0.953407</td>\n",
       "      <td>6824.000000</td>\n",
       "    </tr>\n",
       "    <tr>\n",
       "      <th>weighted avg</th>\n",
       "      <td>0.953129</td>\n",
       "      <td>0.953253</td>\n",
       "      <td>0.952965</td>\n",
       "      <td>6824.000000</td>\n",
       "    </tr>\n",
       "  </tbody>\n",
       "</table>\n",
       "</div>"
      ],
      "text/plain": [
       "              precision    recall  f1-score      support\n",
       "-1            0.992887   0.998807  0.995838  1677.000000\n",
       "0             0.944023   0.976478  0.959976  1658.000000\n",
       "1             0.938564   0.891908  0.914641  1730.000000\n",
       "2             0.938133   0.948266  0.943172  1759.000000\n",
       "accuracy      0.953253   0.953253  0.953253  0.953253   \n",
       "macro avg     0.953402   0.953865  0.953407  6824.000000\n",
       "weighted avg  0.953129   0.953253  0.952965  6824.000000"
      ]
     },
     "execution_count": 214,
     "metadata": {},
     "output_type": "execute_result"
    }
   ],
   "source": [
    "rfc1 = RandomForestClassifier()\n",
    "rfc1.fit(X_train, y_train)\n",
    "rfc1_pred = rfc1.predict(X_test)\n",
    "rf1_accuracy = accuracy_score(y_test,rfc1_pred)\n",
    "rf1_f1 = round(f1_score(y_test, rfc1_pred, average='weighted'),4)\n",
    "print('accuracy_score',accuracy_score(y_test, rfc1_pred))\n",
    "report = classification_report(y_test, rfc1_pred, output_dict=True)\n",
    "pd.DataFrame(report).transpose()"
   ]
  },
  {
   "cell_type": "markdown",
   "metadata": {},
   "source": [
    "#### LinearSVC"
   ]
  },
  {
   "cell_type": "code",
   "execution_count": 215,
   "metadata": {},
   "outputs": [
    {
     "name": "stdout",
     "output_type": "stream",
     "text": [
      "accuracy_score 0.957063305978898\n"
     ]
    },
    {
     "data": {
      "text/html": [
       "<div>\n",
       "<style scoped>\n",
       "    .dataframe tbody tr th:only-of-type {\n",
       "        vertical-align: middle;\n",
       "    }\n",
       "\n",
       "    .dataframe tbody tr th {\n",
       "        vertical-align: top;\n",
       "    }\n",
       "\n",
       "    .dataframe thead th {\n",
       "        text-align: right;\n",
       "    }\n",
       "</style>\n",
       "<table border=\"1\" class=\"dataframe\">\n",
       "  <thead>\n",
       "    <tr style=\"text-align: right;\">\n",
       "      <th></th>\n",
       "      <th>precision</th>\n",
       "      <th>recall</th>\n",
       "      <th>f1-score</th>\n",
       "      <th>support</th>\n",
       "    </tr>\n",
       "  </thead>\n",
       "  <tbody>\n",
       "    <tr>\n",
       "      <th>-1</th>\n",
       "      <td>0.981276</td>\n",
       "      <td>1.000000</td>\n",
       "      <td>0.990549</td>\n",
       "      <td>1677.000000</td>\n",
       "    </tr>\n",
       "    <tr>\n",
       "      <th>0</th>\n",
       "      <td>0.949153</td>\n",
       "      <td>0.979493</td>\n",
       "      <td>0.964084</td>\n",
       "      <td>1658.000000</td>\n",
       "    </tr>\n",
       "    <tr>\n",
       "      <th>1</th>\n",
       "      <td>0.956305</td>\n",
       "      <td>0.885549</td>\n",
       "      <td>0.919568</td>\n",
       "      <td>1730.000000</td>\n",
       "    </tr>\n",
       "    <tr>\n",
       "      <th>2</th>\n",
       "      <td>0.942286</td>\n",
       "      <td>0.965321</td>\n",
       "      <td>0.953665</td>\n",
       "      <td>1759.000000</td>\n",
       "    </tr>\n",
       "    <tr>\n",
       "      <th>accuracy</th>\n",
       "      <td>0.957063</td>\n",
       "      <td>0.957063</td>\n",
       "      <td>0.957063</td>\n",
       "      <td>0.957063</td>\n",
       "    </tr>\n",
       "    <tr>\n",
       "      <th>macro avg</th>\n",
       "      <td>0.957255</td>\n",
       "      <td>0.957591</td>\n",
       "      <td>0.956967</td>\n",
       "      <td>6824.000000</td>\n",
       "    </tr>\n",
       "    <tr>\n",
       "      <th>weighted avg</th>\n",
       "      <td>0.957090</td>\n",
       "      <td>0.957063</td>\n",
       "      <td>0.956617</td>\n",
       "      <td>6824.000000</td>\n",
       "    </tr>\n",
       "  </tbody>\n",
       "</table>\n",
       "</div>"
      ],
      "text/plain": [
       "              precision    recall  f1-score      support\n",
       "-1            0.981276   1.000000  0.990549  1677.000000\n",
       "0             0.949153   0.979493  0.964084  1658.000000\n",
       "1             0.956305   0.885549  0.919568  1730.000000\n",
       "2             0.942286   0.965321  0.953665  1759.000000\n",
       "accuracy      0.957063   0.957063  0.957063  0.957063   \n",
       "macro avg     0.957255   0.957591  0.956967  6824.000000\n",
       "weighted avg  0.957090   0.957063  0.956617  6824.000000"
      ]
     },
     "execution_count": 215,
     "metadata": {},
     "output_type": "execute_result"
    }
   ],
   "source": [
    "lsvc1 = LinearSVC(C=0.8, verbose=0)\n",
    "lsvc1.fit(X_train,  y_train)\n",
    "lsvc1_pred = lsvc1.predict(X_test)\n",
    "lsvc1_accuracy = accuracy_score(y_test,lsvc1_pred)\n",
    "lsvc1_f1 = round(f1_score(y_test, lsvc1_pred, average='weighted'),4)\n",
    "print('accuracy_score',accuracy_score(y_test, lsvc1_pred))\n",
    "report = classification_report(y_test, lsvc1_pred, output_dict=True)\n",
    "pd.DataFrame(report).transpose()"
   ]
  },
  {
   "cell_type": "markdown",
   "metadata": {},
   "source": [
    "####  Support Vector Classifier"
   ]
  },
  {
   "cell_type": "code",
   "execution_count": 216,
   "metadata": {},
   "outputs": [
    {
     "name": "stdout",
     "output_type": "stream",
     "text": [
      "accuracy_score 0.9638042203985931\n"
     ]
    },
    {
     "data": {
      "text/html": [
       "<div>\n",
       "<style scoped>\n",
       "    .dataframe tbody tr th:only-of-type {\n",
       "        vertical-align: middle;\n",
       "    }\n",
       "\n",
       "    .dataframe tbody tr th {\n",
       "        vertical-align: top;\n",
       "    }\n",
       "\n",
       "    .dataframe thead th {\n",
       "        text-align: right;\n",
       "    }\n",
       "</style>\n",
       "<table border=\"1\" class=\"dataframe\">\n",
       "  <thead>\n",
       "    <tr style=\"text-align: right;\">\n",
       "      <th></th>\n",
       "      <th>precision</th>\n",
       "      <th>recall</th>\n",
       "      <th>f1-score</th>\n",
       "      <th>support</th>\n",
       "    </tr>\n",
       "  </thead>\n",
       "  <tbody>\n",
       "    <tr>\n",
       "      <th>-1</th>\n",
       "      <td>0.991711</td>\n",
       "      <td>0.998807</td>\n",
       "      <td>0.995247</td>\n",
       "      <td>1677.000000</td>\n",
       "    </tr>\n",
       "    <tr>\n",
       "      <th>0</th>\n",
       "      <td>0.967223</td>\n",
       "      <td>0.978890</td>\n",
       "      <td>0.973022</td>\n",
       "      <td>1658.000000</td>\n",
       "    </tr>\n",
       "    <tr>\n",
       "      <th>1</th>\n",
       "      <td>0.945003</td>\n",
       "      <td>0.923699</td>\n",
       "      <td>0.934230</td>\n",
       "      <td>1730.000000</td>\n",
       "    </tr>\n",
       "    <tr>\n",
       "      <th>2</th>\n",
       "      <td>0.951869</td>\n",
       "      <td>0.955657</td>\n",
       "      <td>0.953759</td>\n",
       "      <td>1759.000000</td>\n",
       "    </tr>\n",
       "    <tr>\n",
       "      <th>accuracy</th>\n",
       "      <td>0.963804</td>\n",
       "      <td>0.963804</td>\n",
       "      <td>0.963804</td>\n",
       "      <td>0.963804</td>\n",
       "    </tr>\n",
       "    <tr>\n",
       "      <th>macro avg</th>\n",
       "      <td>0.963951</td>\n",
       "      <td>0.964263</td>\n",
       "      <td>0.964064</td>\n",
       "      <td>6824.000000</td>\n",
       "    </tr>\n",
       "    <tr>\n",
       "      <th>weighted avg</th>\n",
       "      <td>0.963650</td>\n",
       "      <td>0.963804</td>\n",
       "      <td>0.963684</td>\n",
       "      <td>6824.000000</td>\n",
       "    </tr>\n",
       "  </tbody>\n",
       "</table>\n",
       "</div>"
      ],
      "text/plain": [
       "              precision    recall  f1-score      support\n",
       "-1            0.991711   0.998807  0.995247  1677.000000\n",
       "0             0.967223   0.978890  0.973022  1658.000000\n",
       "1             0.945003   0.923699  0.934230  1730.000000\n",
       "2             0.951869   0.955657  0.953759  1759.000000\n",
       "accuracy      0.963804   0.963804  0.963804  0.963804   \n",
       "macro avg     0.963951   0.964263  0.964064  6824.000000\n",
       "weighted avg  0.963650   0.963804  0.963684  6824.000000"
      ]
     },
     "execution_count": 216,
     "metadata": {},
     "output_type": "execute_result"
    }
   ],
   "source": [
    "svc1 = SVC(gamma = 0.8, C = 10, random_state=42)\n",
    "svc1.fit(X_train, y_train)\n",
    "y_pred_svc1 = svc1.predict(X_test)\n",
    "svc1_accuracy = accuracy_score(y_test,y_pred_svc1)\n",
    "svc1_f1 = round(f1_score(y_test, y_pred_svc1, average='weighted'),4)\n",
    "print('accuracy_score',accuracy_score(y_test, y_pred_svc1))\n",
    "report = classification_report(y_test, y_pred_svc1, output_dict=True)\n",
    "pd.DataFrame(report).transpose()"
   ]
  },
  {
   "cell_type": "markdown",
   "metadata": {},
   "source": [
    "#### Logistic Regression Model"
   ]
  },
  {
   "cell_type": "code",
   "execution_count": 217,
   "metadata": {
    "scrolled": true
   },
   "outputs": [
    {
     "name": "stdout",
     "output_type": "stream",
     "text": [
      "accuracy_score 0.9538393903868698\n"
     ]
    },
    {
     "data": {
      "text/html": [
       "<div>\n",
       "<style scoped>\n",
       "    .dataframe tbody tr th:only-of-type {\n",
       "        vertical-align: middle;\n",
       "    }\n",
       "\n",
       "    .dataframe tbody tr th {\n",
       "        vertical-align: top;\n",
       "    }\n",
       "\n",
       "    .dataframe thead th {\n",
       "        text-align: right;\n",
       "    }\n",
       "</style>\n",
       "<table border=\"1\" class=\"dataframe\">\n",
       "  <thead>\n",
       "    <tr style=\"text-align: right;\">\n",
       "      <th></th>\n",
       "      <th>precision</th>\n",
       "      <th>recall</th>\n",
       "      <th>f1-score</th>\n",
       "      <th>support</th>\n",
       "    </tr>\n",
       "  </thead>\n",
       "  <tbody>\n",
       "    <tr>\n",
       "      <th>-1</th>\n",
       "      <td>0.975000</td>\n",
       "      <td>1.000000</td>\n",
       "      <td>0.987342</td>\n",
       "      <td>1677.000000</td>\n",
       "    </tr>\n",
       "    <tr>\n",
       "      <th>0</th>\n",
       "      <td>0.942575</td>\n",
       "      <td>0.980097</td>\n",
       "      <td>0.960970</td>\n",
       "      <td>1658.000000</td>\n",
       "    </tr>\n",
       "    <tr>\n",
       "      <th>1</th>\n",
       "      <td>0.958625</td>\n",
       "      <td>0.870520</td>\n",
       "      <td>0.912451</td>\n",
       "      <td>1730.000000</td>\n",
       "    </tr>\n",
       "    <tr>\n",
       "      <th>2</th>\n",
       "      <td>0.940299</td>\n",
       "      <td>0.967027</td>\n",
       "      <td>0.953475</td>\n",
       "      <td>1759.000000</td>\n",
       "    </tr>\n",
       "    <tr>\n",
       "      <th>accuracy</th>\n",
       "      <td>0.953839</td>\n",
       "      <td>0.953839</td>\n",
       "      <td>0.953839</td>\n",
       "      <td>0.953839</td>\n",
       "    </tr>\n",
       "    <tr>\n",
       "      <th>macro avg</th>\n",
       "      <td>0.954125</td>\n",
       "      <td>0.954411</td>\n",
       "      <td>0.953559</td>\n",
       "      <td>6824.000000</td>\n",
       "    </tr>\n",
       "    <tr>\n",
       "      <th>weighted avg</th>\n",
       "      <td>0.954026</td>\n",
       "      <td>0.953839</td>\n",
       "      <td>0.953219</td>\n",
       "      <td>6824.000000</td>\n",
       "    </tr>\n",
       "  </tbody>\n",
       "</table>\n",
       "</div>"
      ],
      "text/plain": [
       "              precision    recall  f1-score      support\n",
       "-1            0.975000   1.000000  0.987342  1677.000000\n",
       "0             0.942575   0.980097  0.960970  1658.000000\n",
       "1             0.958625   0.870520  0.912451  1730.000000\n",
       "2             0.940299   0.967027  0.953475  1759.000000\n",
       "accuracy      0.953839   0.953839  0.953839  0.953839   \n",
       "macro avg     0.954125   0.954411  0.953559  6824.000000\n",
       "weighted avg  0.954026   0.953839  0.953219  6824.000000"
      ]
     },
     "execution_count": 217,
     "metadata": {},
     "output_type": "execute_result"
    }
   ],
   "source": [
    "#logist = LogisticRegression()\n",
    "LR1_model = LogisticRegression(C=10)\n",
    "LR1_model.fit(X_train, y_train)\n",
    "y_predict_lr1= LR1_model.predict(X_test)\n",
    "lr1_accuracy = accuracy_score(y_test,y_predict_lr1)\n",
    "lr1_f1 = round(f1_score(y_test, y_predict_lr1, average='weighted'),4)\n",
    "print('accuracy_score',accuracy_score(y_test, y_predict_lr1))\n",
    "report = classification_report(y_test, y_predict_lr1, output_dict=True)\n",
    "pd.DataFrame(report).transpose()"
   ]
  },
  {
   "cell_type": "markdown",
   "metadata": {},
   "source": [
    "#### Models f-1 score (Inbalanced Data)"
   ]
  },
  {
   "cell_type": "code",
   "execution_count": 270,
   "metadata": {},
   "outputs": [
    {
     "data": {
      "text/html": [
       "<div>\n",
       "<style scoped>\n",
       "    .dataframe tbody tr th:only-of-type {\n",
       "        vertical-align: middle;\n",
       "    }\n",
       "\n",
       "    .dataframe tbody tr th {\n",
       "        vertical-align: top;\n",
       "    }\n",
       "\n",
       "    .dataframe thead th {\n",
       "        text-align: right;\n",
       "    }\n",
       "</style>\n",
       "<table border=\"1\" class=\"dataframe\">\n",
       "  <thead>\n",
       "    <tr style=\"text-align: right;\">\n",
       "      <th></th>\n",
       "      <th>Model</th>\n",
       "      <th>f-1 Score</th>\n",
       "    </tr>\n",
       "  </thead>\n",
       "  <tbody>\n",
       "    <tr>\n",
       "      <th>0</th>\n",
       "      <td>Logistic Regression</td>\n",
       "      <td>0.9532</td>\n",
       "    </tr>\n",
       "    <tr>\n",
       "      <th>1</th>\n",
       "      <td>Support Vector Classifier</td>\n",
       "      <td>0.9637</td>\n",
       "    </tr>\n",
       "    <tr>\n",
       "      <th>2</th>\n",
       "      <td>Linear SVC</td>\n",
       "      <td>0.9566</td>\n",
       "    </tr>\n",
       "    <tr>\n",
       "      <th>3</th>\n",
       "      <td>Random Forest Classifier</td>\n",
       "      <td>0.9530</td>\n",
       "    </tr>\n",
       "  </tbody>\n",
       "</table>\n",
       "</div>"
      ],
      "text/plain": [
       "                       Model  f-1 Score\n",
       "0  Logistic Regression        0.9532   \n",
       "1  Support Vector Classifier  0.9637   \n",
       "2  Linear SVC                 0.9566   \n",
       "3  Random Forest Classifier   0.9530   "
      ]
     },
     "execution_count": 270,
     "metadata": {},
     "output_type": "execute_result"
    }
   ],
   "source": [
    "mydict = {f'Logistic Regression': lr1_f1,\n",
    "          f'Support Vector Classifier': svc1_f1, \n",
    "          f'Linear SVC': lsvc1_f1, \n",
    "          f'Random Forest Classifier': rf1_f1\n",
    "         }\n",
    "\n",
    "b = pd.DataFrame(mydict.items(), columns=['Model', 'f-1 Score'])\n",
    "b"
   ]
  },
  {
   "cell_type": "markdown",
   "metadata": {},
   "source": [
    "All the model f_1 improved and Support Vector Classifier perfomed the best, followed by Linear SVC and Logistic Regression."
   ]
  },
  {
   "cell_type": "markdown",
   "metadata": {},
   "source": [
    "#### **Comparison analysis of model f1-score trained with Balanced and Inbalanced**\n",
    "----------------"
   ]
  },
  {
   "cell_type": "code",
   "execution_count": 252,
   "metadata": {
    "scrolled": true
   },
   "outputs": [
    {
     "data": {
      "text/html": [
       "<div>\n",
       "<style scoped>\n",
       "    .dataframe tbody tr th:only-of-type {\n",
       "        vertical-align: middle;\n",
       "    }\n",
       "\n",
       "    .dataframe tbody tr th {\n",
       "        vertical-align: top;\n",
       "    }\n",
       "\n",
       "    .dataframe thead th {\n",
       "        text-align: right;\n",
       "    }\n",
       "</style>\n",
       "<table border=\"1\" class=\"dataframe\">\n",
       "  <thead>\n",
       "    <tr style=\"text-align: right;\">\n",
       "      <th></th>\n",
       "      <th>Inbalanced Data</th>\n",
       "      <th>Balanced Data</th>\n",
       "    </tr>\n",
       "  </thead>\n",
       "  <tbody>\n",
       "    <tr>\n",
       "      <th>Logistic Regression Model f1-score</th>\n",
       "      <td>0.7605</td>\n",
       "      <td>0.9532</td>\n",
       "    </tr>\n",
       "    <tr>\n",
       "      <th>Support Vector Classifier f1-score</th>\n",
       "      <td>0.7491</td>\n",
       "      <td>0.9637</td>\n",
       "    </tr>\n",
       "    <tr>\n",
       "      <th>LinearSVC f1-score</th>\n",
       "      <td>0.7593</td>\n",
       "      <td>0.9566</td>\n",
       "    </tr>\n",
       "    <tr>\n",
       "      <th>Random Forest Model f1-score</th>\n",
       "      <td>0.6824</td>\n",
       "      <td>0.9530</td>\n",
       "    </tr>\n",
       "  </tbody>\n",
       "</table>\n",
       "</div>"
      ],
      "text/plain": [
       "                                     Inbalanced Data  Balanced Data\n",
       "Logistic Regression Model f1-score   0.7605           0.9532       \n",
       "Support Vector Classifier f1-score   0.7491           0.9637       \n",
       "LinearSVC f1-score                   0.7593           0.9566       \n",
       "Random Forest Model f1-score         0.6824           0.9530       "
      ]
     },
     "execution_count": 252,
     "metadata": {},
     "output_type": "execute_result"
    }
   ],
   "source": [
    "compare_df = pd.DataFrame({'Inbalanced Data': [lr_f1,svc_f1,lsvc_f1,rf_f1],\n",
    "                            'Balanced Data': [lr1_f1,svc1_f1,lsvc1_f1,rf1_f1]},\n",
    "                    \n",
    "                        index = ['Logistic Regression Model f1-score ', 'Support Vector Classifier f1-score', \n",
    "                                 'LinearSVC f1-score', 'Random Forest Model f1-score'])\n",
    "compare_df"
   ]
  },
  {
   "cell_type": "markdown",
   "metadata": {},
   "source": [
    "From the performance metrics of above we can see that Most of the models f1_score above 0.90 which is an improvement of the score from models trained with unbalanced data. we see that the Support Vector Classifier performed the best on our training, closely followed by the LinearSVC and Logistic Regression Model."
   ]
  },
  {
   "cell_type": "markdown",
   "metadata": {},
   "source": [
    "As we saw that  Support Vector Classifier for balanced data (gave an F1 score of 0.967), we will use it to do our predictions."
   ]
  },
  {
   "cell_type": "markdown",
   "metadata": {},
   "source": [
    "# 6. Model Deployment\n",
    "-------------------------------"
   ]
  },
  {
   "cell_type": "markdown",
   "metadata": {},
   "source": [
    "#### Saving a model with Pickle"
   ]
  },
  {
   "cell_type": "code",
   "execution_count": 149,
   "metadata": {},
   "outputs": [],
   "source": [
    "import pickle\n",
    "\n",
    "model_save_path = \"svc1.pkl\"\n",
    "with open(model_save_path,'wb') as file:\n",
    "    pickle.dump(svc1, file)"
   ]
  },
  {
   "cell_type": "markdown",
   "metadata": {},
   "source": [
    "#### Preprocessing: Predicting on the test set"
   ]
  },
  {
   "cell_type": "markdown",
   "metadata": {},
   "source": [
    "Preprocessing The first thing we need to do is to get our data in the correct format. We will use the same techniques we used when preparing the training data to ensure we do not get any errors."
   ]
  },
  {
   "cell_type": "code",
   "execution_count": 263,
   "metadata": {},
   "outputs": [],
   "source": [
    "tweet_id = test['tweetid']\n",
    "X_test_ = vector.transform(test['message'].values)"
   ]
  },
  {
   "cell_type": "code",
   "execution_count": 264,
   "metadata": {},
   "outputs": [
    {
     "data": {
      "text/plain": [
       "(10546, 70456)"
      ]
     },
     "execution_count": 264,
     "metadata": {},
     "output_type": "execute_result"
    }
   ],
   "source": [
    "X_test_.shape"
   ]
  },
  {
   "cell_type": "markdown",
   "metadata": {},
   "source": [
    "#### Making predictions"
   ]
  },
  {
   "cell_type": "code",
   "execution_count": 152,
   "metadata": {},
   "outputs": [],
   "source": [
    "preds = svc1.predict(X_test_)"
   ]
  },
  {
   "cell_type": "code",
   "execution_count": 153,
   "metadata": {},
   "outputs": [
    {
     "data": {
      "text/plain": [
       "array([1, 1, 1, ..., 0, 0, 1], dtype=int64)"
      ]
     },
     "execution_count": 153,
     "metadata": {},
     "output_type": "execute_result"
    }
   ],
   "source": [
    "preds"
   ]
  },
  {
   "cell_type": "code",
   "execution_count": 266,
   "metadata": {},
   "outputs": [],
   "source": [
    "test['sentiment'] = preds"
   ]
  },
  {
   "cell_type": "code",
   "execution_count": 267,
   "metadata": {},
   "outputs": [
    {
     "data": {
      "text/html": [
       "<div>\n",
       "<style scoped>\n",
       "    .dataframe tbody tr th:only-of-type {\n",
       "        vertical-align: middle;\n",
       "    }\n",
       "\n",
       "    .dataframe tbody tr th {\n",
       "        vertical-align: top;\n",
       "    }\n",
       "\n",
       "    .dataframe thead th {\n",
       "        text-align: right;\n",
       "    }\n",
       "</style>\n",
       "<table border=\"1\" class=\"dataframe\">\n",
       "  <thead>\n",
       "    <tr style=\"text-align: right;\">\n",
       "      <th></th>\n",
       "      <th>message</th>\n",
       "      <th>tweetid</th>\n",
       "      <th>sentiment</th>\n",
       "    </tr>\n",
       "  </thead>\n",
       "  <tbody>\n",
       "    <tr>\n",
       "      <th>0</th>\n",
       "      <td>europe will now be looking to china to make sure that it is not alone in fighting climate change urlweb</td>\n",
       "      <td>169760</td>\n",
       "      <td>1</td>\n",
       "    </tr>\n",
       "    <tr>\n",
       "      <th>1</th>\n",
       "      <td>combine this with the polling of staffers re climate change and womens rights and you have a fascist state urlweb</td>\n",
       "      <td>35326</td>\n",
       "      <td>1</td>\n",
       "    </tr>\n",
       "    <tr>\n",
       "      <th>2</th>\n",
       "      <td>the scary unimpeachable evidence that climate change is already here urlweb itstimetochange climatechange zeroco</td>\n",
       "      <td>224985</td>\n",
       "      <td>1</td>\n",
       "    </tr>\n",
       "    <tr>\n",
       "      <th>3</th>\n",
       "      <td>karoli morgfair osborneink dailykos \\nputin got to you too jill  \\ntrump doesnt believe in climate change at all \\nthinks its s hoax</td>\n",
       "      <td>476263</td>\n",
       "      <td>1</td>\n",
       "    </tr>\n",
       "    <tr>\n",
       "      <th>4</th>\n",
       "      <td>rt fakewillmoore female orgasms cause global warming\\nsarcastic republican</td>\n",
       "      <td>872928</td>\n",
       "      <td>0</td>\n",
       "    </tr>\n",
       "  </tbody>\n",
       "</table>\n",
       "</div>"
      ],
      "text/plain": [
       "                                                                                                                                message  \\\n",
       "0  europe will now be looking to china to make sure that it is not alone in fighting climate change urlweb                                \n",
       "1  combine this with the polling of staffers re climate change and womens rights and you have a fascist state urlweb                      \n",
       "2  the scary unimpeachable evidence that climate change is already here urlweb itstimetochange climatechange zeroco                       \n",
       "3  karoli morgfair osborneink dailykos \\nputin got to you too jill  \\ntrump doesnt believe in climate change at all \\nthinks its s hoax   \n",
       "4  rt fakewillmoore female orgasms cause global warming\\nsarcastic republican                                                             \n",
       "\n",
       "   tweetid  sentiment  \n",
       "0  169760   1          \n",
       "1  35326    1          \n",
       "2  224985   1          \n",
       "3  476263   1          \n",
       "4  872928   0          "
      ]
     },
     "execution_count": 267,
     "metadata": {},
     "output_type": "execute_result"
    }
   ],
   "source": [
    "test.head()"
   ]
  },
  {
   "cell_type": "markdown",
   "metadata": {},
   "source": [
    "#### Kaggle Submission"
   ]
  },
  {
   "cell_type": "code",
   "execution_count": 268,
   "metadata": {},
   "outputs": [],
   "source": [
    "# create submission dataframe\n",
    "submission = pd.DataFrame(\n",
    "    {'tweetid': tweet_id,\n",
    "     'sentiment': preds\n",
    "    })"
   ]
  },
  {
   "cell_type": "code",
   "execution_count": 269,
   "metadata": {},
   "outputs": [],
   "source": [
    "# save DataFrame to csv file for submission\n",
    "submission.to_csv(\"Classification_ZM4.csv\", index=False)"
   ]
  },
  {
   "cell_type": "markdown",
   "metadata": {},
   "source": [
    "# 7. Conclusion\n",
    "-------------------"
   ]
  },
  {
   "cell_type": "markdown",
   "metadata": {},
   "source": [
    "In this notebook we explored data which entailed tweets related to climate change and their belief on whether the user/tweet is pro, neutral or anti the belief. The data had a sentiment category of News as well, this were tweets that entailed relevant information regarding the topic at hand.\n",
    "\n",
    "We started off by exploring the data, preprocessing our data using different methods such as Letter casing, Noise removal, Stopword removal, Normalization and Stemming, Training models with inbalanced and balanced data.\n",
    "\n",
    "Our top for models in this notebook are the LinearSVC, SVC, Random forest and logidtic regression that we have trained. The performance metric that we were more interested in was the weighted average f1 score. This is mainly because the f1 score is a measure of accuracy which considers both the precision and recall scores.\n",
    "\n",
    "\n",
    "We have thus built predictive models which Dream World company can use to better understand their customer's take on climate change. Such a model can prove important in guiding business in terms of the strategies to be adopted in production, marketing etc."
   ]
  },
  {
   "cell_type": "code",
   "execution_count": null,
   "metadata": {},
   "outputs": [],
   "source": []
  }
 ],
 "metadata": {
  "kernelspec": {
   "display_name": "Python 3",
   "language": "python",
   "name": "python3"
  },
  "language_info": {
   "codemirror_mode": {
    "name": "ipython",
    "version": 3
   },
   "file_extension": ".py",
   "mimetype": "text/x-python",
   "name": "python",
   "nbconvert_exporter": "python",
   "pygments_lexer": "ipython3",
   "version": "3.8.5"
  }
 },
 "nbformat": 4,
 "nbformat_minor": 4
}
